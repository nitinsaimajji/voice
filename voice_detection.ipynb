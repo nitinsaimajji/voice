{
  "cells": [
    {
      "cell_type": "markdown",
      "metadata": {
        "id": "view-in-github",
        "colab_type": "text"
      },
      "source": [
        "<a href=\"https://colab.research.google.com/github/nitinsaimajji/voice/blob/main/voice_detection.ipynb\" target=\"_parent\"><img src=\"https://colab.research.google.com/assets/colab-badge.svg\" alt=\"Open In Colab\"/></a>"
      ]
    },
    {
      "cell_type": "markdown",
      "metadata": {
        "id": "zYUJe010aJ_-"
      },
      "source": [
        "Install python_speech_features module"
      ]
    },
    {
      "cell_type": "code",
      "execution_count": null,
      "metadata": {
        "id": "qzpV-lbxaKAe",
        "outputId": "76438b06-5f67-4bfc-e668-5c63d5476344",
        "colab": {
          "base_uri": "https://localhost:8080/"
        }
      },
      "outputs": [
        {
          "output_type": "stream",
          "name": "stdout",
          "text": [
            "Looking in indexes: https://pypi.org/simple, https://us-python.pkg.dev/colab-wheels/public/simple/\n",
            "Collecting python_speech_features\n",
            "  Downloading python_speech_features-0.6.tar.gz (5.6 kB)\n",
            "  Preparing metadata (setup.py) ... \u001b[?25l\u001b[?25hdone\n",
            "Building wheels for collected packages: python_speech_features\n",
            "  Building wheel for python_speech_features (setup.py) ... \u001b[?25l\u001b[?25hdone\n",
            "  Created wheel for python_speech_features: filename=python_speech_features-0.6-py3-none-any.whl size=5889 sha256=07202101789129a541ff63ede623d9a19c4849ee648dad50263c8ac6b008be13\n",
            "  Stored in directory: /root/.cache/pip/wheels/5b/60/87/28af2605138deac93d162904df42b6fdda1dab9b8757c62aa3\n",
            "Successfully built python_speech_features\n",
            "Installing collected packages: python_speech_features\n",
            "Successfully installed python_speech_features-0.6\n"
          ]
        }
      ],
      "source": [
        "pip install python_speech_features\n"
      ]
    },
    {
      "cell_type": "code",
      "source": [
        "!git clone https://github.com/nitinsaimajji/voice.git"
      ],
      "metadata": {
        "colab": {
          "base_uri": "https://localhost:8080/"
        },
        "id": "r0Uz-4pobGse",
        "outputId": "a97fe431-c9ae-4dd5-b49c-ece07db930de"
      },
      "execution_count": null,
      "outputs": [
        {
          "output_type": "stream",
          "name": "stdout",
          "text": [
            "Cloning into 'voice'...\n",
            "remote: Enumerating objects: 1107, done.\u001b[K\n",
            "remote: Counting objects: 100% (108/108), done.\u001b[K\n",
            "remote: Compressing objects: 100% (107/107), done.\u001b[K\n",
            "remote: Total 1107 (delta 3), reused 102 (delta 0), pack-reused 999\u001b[K\n",
            "Receiving objects: 100% (1107/1107), 38.86 MiB | 30.61 MiB/s, done.\n",
            "Resolving deltas: 100% (16/16), done.\n"
          ]
        }
      ]
    },
    {
      "cell_type": "code",
      "source": [
        "pip install pydub"
      ],
      "metadata": {
        "colab": {
          "base_uri": "https://localhost:8080/"
        },
        "id": "x67ZxGUVZzTH",
        "outputId": "6a59ba6e-2883-413b-911f-cdaf7021df7a"
      },
      "execution_count": null,
      "outputs": [
        {
          "output_type": "stream",
          "name": "stdout",
          "text": [
            "Looking in indexes: https://pypi.org/simple, https://us-python.pkg.dev/colab-wheels/public/simple/\n",
            "Collecting pydub\n",
            "  Downloading pydub-0.25.1-py2.py3-none-any.whl (32 kB)\n",
            "Installing collected packages: pydub\n",
            "Successfully installed pydub-0.25.1\n"
          ]
        }
      ]
    },
    {
      "cell_type": "code",
      "source": [],
      "metadata": {
        "id": "JR6kdOjrZzdG"
      },
      "execution_count": null,
      "outputs": []
    },
    {
      "cell_type": "markdown",
      "metadata": {
        "id": "SkNz9257aKAm"
      },
      "source": [
        "Import all modules"
      ]
    },
    {
      "cell_type": "code",
      "execution_count": null,
      "metadata": {
        "id": "HtefZ9dDaKAn"
      },
      "outputs": [],
      "source": [
        "import os\n",
        "import librosa\n",
        "import numpy as np\n",
        "import pandas as pd\n",
        "import matplotlib.pyplot as plt\n",
        "import seaborn as sns\n",
        "from tqdm import tqdm\n",
        "from sklearn.model_selection import train_test_split\n",
        "from sklearn.svm import SVC\n",
        "from sklearn.metrics import confusion_matrix\n",
        "from pydub import AudioSegment\n",
        "from python_speech_features import mfcc\n",
        "from time import time"
      ]
    },
    {
      "cell_type": "markdown",
      "metadata": {
        "id": "K7ZxOuZkaKAu"
      },
      "source": [
        "Load the csv file into data frame"
      ]
    },
    {
      "cell_type": "code",
      "execution_count": null,
      "metadata": {
        "id": "NvR51w5-aKAv"
      },
      "outputs": [],
      "source": [
        "df = pd.read_csv('voice/cv-valid-train.csv')"
      ]
    },
    {
      "cell_type": "markdown",
      "metadata": {
        "id": "ICttd2FnaKAw"
      },
      "source": [
        "Create two new data frames"
      ]
    },
    {
      "cell_type": "code",
      "execution_count": null,
      "metadata": {
        "id": "onMz1en1aKAx"
      },
      "outputs": [],
      "source": [
        "df_male = df[df['gender']=='male']\n",
        "df_female = df[df['gender']=='female']\n"
      ]
    },
    {
      "cell_type": "markdown",
      "metadata": {
        "id": "KC_wW59maKAy"
      },
      "source": [
        "Find out the number of rows"
      ]
    },
    {
      "cell_type": "code",
      "execution_count": null,
      "metadata": {
        "id": "mTeCjJpmaKAz",
        "outputId": "c8dd19d0-4192-4fe8-efe8-e6f0d17c8ece",
        "colab": {
          "base_uri": "https://localhost:8080/"
        }
      },
      "outputs": [
        {
          "output_type": "stream",
          "name": "stdout",
          "text": [
            "(55029, 8)\n"
          ]
        }
      ],
      "source": [
        "print(df_male.shape)\t\t\n",
        "# output: (55029, 8) "
      ]
    },
    {
      "cell_type": "code",
      "execution_count": null,
      "metadata": {
        "id": "gykWO7VZaKA5",
        "outputId": "cf7c3de1-4d7b-43f2-bde2-782179d6b9a0",
        "colab": {
          "base_uri": "https://localhost:8080/"
        }
      },
      "outputs": [
        {
          "output_type": "stream",
          "name": "stdout",
          "text": [
            "(100, 8)\n",
            "                              filename  \\\n",
            "5     cv-valid-train/sample-000005.mp3   \n",
            "13    cv-valid-train/sample-000013.mp3   \n",
            "26    cv-valid-train/sample-000026.mp3   \n",
            "34    cv-valid-train/sample-000034.mp3   \n",
            "39    cv-valid-train/sample-000039.mp3   \n",
            "...                                ...   \n",
            "1153  cv-valid-train/sample-001153.mp3   \n",
            "1164  cv-valid-train/sample-001164.mp3   \n",
            "1193  cv-valid-train/sample-001193.mp3   \n",
            "1194  cv-valid-train/sample-001194.mp3   \n",
            "1216  cv-valid-train/sample-001216.mp3   \n",
            "\n",
            "                                                   text  up_votes  down_votes  \\\n",
            "5     a shepherd may like to travel but he should ne...         1           0   \n",
            "13    but he had found a guide and didn't want to mi...         1           0   \n",
            "26    two years ago right here on this spot i had a ...         4           0   \n",
            "34              i have had the same dream twice he said         1           0   \n",
            "39    a large piece suddenly came off and fell with ...         3           1   \n",
            "...                                                 ...       ...         ...   \n",
            "1153  the greatest authority on meteorites stated th...         4           0   \n",
            "1164  the time must have been somewhere around six o...         3           0   \n",
            "1193  the first rule of don't fight club is let's ta...         3           0   \n",
            "1194          he told fatima that at their next meeting         1           0   \n",
            "1216                       i think it's plenty terrific         1           0   \n",
            "\n",
            "           age  gender     accent  duration  \n",
            "5     twenties  female         us       NaN  \n",
            "13    thirties  female         us       NaN  \n",
            "26    twenties  female  australia       NaN  \n",
            "34    fourties  female         us       NaN  \n",
            "39       teens  female     canada       NaN  \n",
            "...        ...     ...        ...       ...  \n",
            "1153   sixties  female         us       NaN  \n",
            "1164  thirties  female         us       NaN  \n",
            "1193  thirties  female     canada       NaN  \n",
            "1194   sixties  female     canada       NaN  \n",
            "1216   fifties  female    england       NaN  \n",
            "\n",
            "[100 rows x 8 columns]\n"
          ]
        }
      ],
      "source": [
        "print(df_female.shape)\t\t\n",
        "print(df_female)\n",
        "# output: (18249, 8)"
      ]
    },
    {
      "cell_type": "markdown",
      "metadata": {
        "id": "Yuuak-e_aKA6"
      },
      "source": [
        "Take only 300 male and 300 female data"
      ]
    },
    {
      "cell_type": "code",
      "execution_count": null,
      "metadata": {
        "id": "DtVAKYsvaKA7",
        "colab": {
          "base_uri": "https://localhost:8080/",
          "height": 641
        },
        "outputId": "ecc18abb-4319-4b63-91c7-110681e4ed0c"
      },
      "outputs": [
        {
          "output_type": "execute_result",
          "data": {
            "text/plain": [
              "                              filename  \\\n",
              "5     cv-valid-train/sample-000005.mp3   \n",
              "13    cv-valid-train/sample-000013.mp3   \n",
              "26    cv-valid-train/sample-000026.mp3   \n",
              "34    cv-valid-train/sample-000034.mp3   \n",
              "39    cv-valid-train/sample-000039.mp3   \n",
              "...                                ...   \n",
              "1153  cv-valid-train/sample-001153.mp3   \n",
              "1164  cv-valid-train/sample-001164.mp3   \n",
              "1193  cv-valid-train/sample-001193.mp3   \n",
              "1194  cv-valid-train/sample-001194.mp3   \n",
              "1216  cv-valid-train/sample-001216.mp3   \n",
              "\n",
              "                                                   text  up_votes  down_votes  \\\n",
              "5     a shepherd may like to travel but he should ne...         1           0   \n",
              "13    but he had found a guide and didn't want to mi...         1           0   \n",
              "26    two years ago right here on this spot i had a ...         4           0   \n",
              "34              i have had the same dream twice he said         1           0   \n",
              "39    a large piece suddenly came off and fell with ...         3           1   \n",
              "...                                                 ...       ...         ...   \n",
              "1153  the greatest authority on meteorites stated th...         4           0   \n",
              "1164  the time must have been somewhere around six o...         3           0   \n",
              "1193  the first rule of don't fight club is let's ta...         3           0   \n",
              "1194          he told fatima that at their next meeting         1           0   \n",
              "1216                       i think it's plenty terrific         1           0   \n",
              "\n",
              "           age  gender     accent  duration  \n",
              "5     twenties  female         us       NaN  \n",
              "13    thirties  female         us       NaN  \n",
              "26    twenties  female  australia       NaN  \n",
              "34    fourties  female         us       NaN  \n",
              "39       teens  female     canada       NaN  \n",
              "...        ...     ...        ...       ...  \n",
              "1153   sixties  female         us       NaN  \n",
              "1164  thirties  female         us       NaN  \n",
              "1193  thirties  female     canada       NaN  \n",
              "1194   sixties  female     canada       NaN  \n",
              "1216   fifties  female    england       NaN  \n",
              "\n",
              "[100 rows x 8 columns]"
            ],
            "text/html": [
              "\n",
              "  <div id=\"df-d8a481fe-2f0b-4c8b-995d-1b9549cb05d1\">\n",
              "    <div class=\"colab-df-container\">\n",
              "      <div>\n",
              "<style scoped>\n",
              "    .dataframe tbody tr th:only-of-type {\n",
              "        vertical-align: middle;\n",
              "    }\n",
              "\n",
              "    .dataframe tbody tr th {\n",
              "        vertical-align: top;\n",
              "    }\n",
              "\n",
              "    .dataframe thead th {\n",
              "        text-align: right;\n",
              "    }\n",
              "</style>\n",
              "<table border=\"1\" class=\"dataframe\">\n",
              "  <thead>\n",
              "    <tr style=\"text-align: right;\">\n",
              "      <th></th>\n",
              "      <th>filename</th>\n",
              "      <th>text</th>\n",
              "      <th>up_votes</th>\n",
              "      <th>down_votes</th>\n",
              "      <th>age</th>\n",
              "      <th>gender</th>\n",
              "      <th>accent</th>\n",
              "      <th>duration</th>\n",
              "    </tr>\n",
              "  </thead>\n",
              "  <tbody>\n",
              "    <tr>\n",
              "      <th>5</th>\n",
              "      <td>cv-valid-train/sample-000005.mp3</td>\n",
              "      <td>a shepherd may like to travel but he should ne...</td>\n",
              "      <td>1</td>\n",
              "      <td>0</td>\n",
              "      <td>twenties</td>\n",
              "      <td>female</td>\n",
              "      <td>us</td>\n",
              "      <td>NaN</td>\n",
              "    </tr>\n",
              "    <tr>\n",
              "      <th>13</th>\n",
              "      <td>cv-valid-train/sample-000013.mp3</td>\n",
              "      <td>but he had found a guide and didn't want to mi...</td>\n",
              "      <td>1</td>\n",
              "      <td>0</td>\n",
              "      <td>thirties</td>\n",
              "      <td>female</td>\n",
              "      <td>us</td>\n",
              "      <td>NaN</td>\n",
              "    </tr>\n",
              "    <tr>\n",
              "      <th>26</th>\n",
              "      <td>cv-valid-train/sample-000026.mp3</td>\n",
              "      <td>two years ago right here on this spot i had a ...</td>\n",
              "      <td>4</td>\n",
              "      <td>0</td>\n",
              "      <td>twenties</td>\n",
              "      <td>female</td>\n",
              "      <td>australia</td>\n",
              "      <td>NaN</td>\n",
              "    </tr>\n",
              "    <tr>\n",
              "      <th>34</th>\n",
              "      <td>cv-valid-train/sample-000034.mp3</td>\n",
              "      <td>i have had the same dream twice he said</td>\n",
              "      <td>1</td>\n",
              "      <td>0</td>\n",
              "      <td>fourties</td>\n",
              "      <td>female</td>\n",
              "      <td>us</td>\n",
              "      <td>NaN</td>\n",
              "    </tr>\n",
              "    <tr>\n",
              "      <th>39</th>\n",
              "      <td>cv-valid-train/sample-000039.mp3</td>\n",
              "      <td>a large piece suddenly came off and fell with ...</td>\n",
              "      <td>3</td>\n",
              "      <td>1</td>\n",
              "      <td>teens</td>\n",
              "      <td>female</td>\n",
              "      <td>canada</td>\n",
              "      <td>NaN</td>\n",
              "    </tr>\n",
              "    <tr>\n",
              "      <th>...</th>\n",
              "      <td>...</td>\n",
              "      <td>...</td>\n",
              "      <td>...</td>\n",
              "      <td>...</td>\n",
              "      <td>...</td>\n",
              "      <td>...</td>\n",
              "      <td>...</td>\n",
              "      <td>...</td>\n",
              "    </tr>\n",
              "    <tr>\n",
              "      <th>1153</th>\n",
              "      <td>cv-valid-train/sample-001153.mp3</td>\n",
              "      <td>the greatest authority on meteorites stated th...</td>\n",
              "      <td>4</td>\n",
              "      <td>0</td>\n",
              "      <td>sixties</td>\n",
              "      <td>female</td>\n",
              "      <td>us</td>\n",
              "      <td>NaN</td>\n",
              "    </tr>\n",
              "    <tr>\n",
              "      <th>1164</th>\n",
              "      <td>cv-valid-train/sample-001164.mp3</td>\n",
              "      <td>the time must have been somewhere around six o...</td>\n",
              "      <td>3</td>\n",
              "      <td>0</td>\n",
              "      <td>thirties</td>\n",
              "      <td>female</td>\n",
              "      <td>us</td>\n",
              "      <td>NaN</td>\n",
              "    </tr>\n",
              "    <tr>\n",
              "      <th>1193</th>\n",
              "      <td>cv-valid-train/sample-001193.mp3</td>\n",
              "      <td>the first rule of don't fight club is let's ta...</td>\n",
              "      <td>3</td>\n",
              "      <td>0</td>\n",
              "      <td>thirties</td>\n",
              "      <td>female</td>\n",
              "      <td>canada</td>\n",
              "      <td>NaN</td>\n",
              "    </tr>\n",
              "    <tr>\n",
              "      <th>1194</th>\n",
              "      <td>cv-valid-train/sample-001194.mp3</td>\n",
              "      <td>he told fatima that at their next meeting</td>\n",
              "      <td>1</td>\n",
              "      <td>0</td>\n",
              "      <td>sixties</td>\n",
              "      <td>female</td>\n",
              "      <td>canada</td>\n",
              "      <td>NaN</td>\n",
              "    </tr>\n",
              "    <tr>\n",
              "      <th>1216</th>\n",
              "      <td>cv-valid-train/sample-001216.mp3</td>\n",
              "      <td>i think it's plenty terrific</td>\n",
              "      <td>1</td>\n",
              "      <td>0</td>\n",
              "      <td>fifties</td>\n",
              "      <td>female</td>\n",
              "      <td>england</td>\n",
              "      <td>NaN</td>\n",
              "    </tr>\n",
              "  </tbody>\n",
              "</table>\n",
              "<p>100 rows × 8 columns</p>\n",
              "</div>\n",
              "      <button class=\"colab-df-convert\" onclick=\"convertToInteractive('df-d8a481fe-2f0b-4c8b-995d-1b9549cb05d1')\"\n",
              "              title=\"Convert this dataframe to an interactive table.\"\n",
              "              style=\"display:none;\">\n",
              "        \n",
              "  <svg xmlns=\"http://www.w3.org/2000/svg\" height=\"24px\"viewBox=\"0 0 24 24\"\n",
              "       width=\"24px\">\n",
              "    <path d=\"M0 0h24v24H0V0z\" fill=\"none\"/>\n",
              "    <path d=\"M18.56 5.44l.94 2.06.94-2.06 2.06-.94-2.06-.94-.94-2.06-.94 2.06-2.06.94zm-11 1L8.5 8.5l.94-2.06 2.06-.94-2.06-.94L8.5 2.5l-.94 2.06-2.06.94zm10 10l.94 2.06.94-2.06 2.06-.94-2.06-.94-.94-2.06-.94 2.06-2.06.94z\"/><path d=\"M17.41 7.96l-1.37-1.37c-.4-.4-.92-.59-1.43-.59-.52 0-1.04.2-1.43.59L10.3 9.45l-7.72 7.72c-.78.78-.78 2.05 0 2.83L4 21.41c.39.39.9.59 1.41.59.51 0 1.02-.2 1.41-.59l7.78-7.78 2.81-2.81c.8-.78.8-2.07 0-2.86zM5.41 20L4 18.59l7.72-7.72 1.47 1.35L5.41 20z\"/>\n",
              "  </svg>\n",
              "      </button>\n",
              "      \n",
              "  <style>\n",
              "    .colab-df-container {\n",
              "      display:flex;\n",
              "      flex-wrap:wrap;\n",
              "      gap: 12px;\n",
              "    }\n",
              "\n",
              "    .colab-df-convert {\n",
              "      background-color: #E8F0FE;\n",
              "      border: none;\n",
              "      border-radius: 50%;\n",
              "      cursor: pointer;\n",
              "      display: none;\n",
              "      fill: #1967D2;\n",
              "      height: 32px;\n",
              "      padding: 0 0 0 0;\n",
              "      width: 32px;\n",
              "    }\n",
              "\n",
              "    .colab-df-convert:hover {\n",
              "      background-color: #E2EBFA;\n",
              "      box-shadow: 0px 1px 2px rgba(60, 64, 67, 0.3), 0px 1px 3px 1px rgba(60, 64, 67, 0.15);\n",
              "      fill: #174EA6;\n",
              "    }\n",
              "\n",
              "    [theme=dark] .colab-df-convert {\n",
              "      background-color: #3B4455;\n",
              "      fill: #D2E3FC;\n",
              "    }\n",
              "\n",
              "    [theme=dark] .colab-df-convert:hover {\n",
              "      background-color: #434B5C;\n",
              "      box-shadow: 0px 1px 3px 1px rgba(0, 0, 0, 0.15);\n",
              "      filter: drop-shadow(0px 1px 2px rgba(0, 0, 0, 0.3));\n",
              "      fill: #FFFFFF;\n",
              "    }\n",
              "  </style>\n",
              "\n",
              "      <script>\n",
              "        const buttonEl =\n",
              "          document.querySelector('#df-d8a481fe-2f0b-4c8b-995d-1b9549cb05d1 button.colab-df-convert');\n",
              "        buttonEl.style.display =\n",
              "          google.colab.kernel.accessAllowed ? 'block' : 'none';\n",
              "\n",
              "        async function convertToInteractive(key) {\n",
              "          const element = document.querySelector('#df-d8a481fe-2f0b-4c8b-995d-1b9549cb05d1');\n",
              "          const dataTable =\n",
              "            await google.colab.kernel.invokeFunction('convertToInteractive',\n",
              "                                                     [key], {});\n",
              "          if (!dataTable) return;\n",
              "\n",
              "          const docLinkHtml = 'Like what you see? Visit the ' +\n",
              "            '<a target=\"_blank\" href=https://colab.research.google.com/notebooks/data_table.ipynb>data table notebook</a>'\n",
              "            + ' to learn more about interactive tables.';\n",
              "          element.innerHTML = '';\n",
              "          dataTable['output_type'] = 'display_data';\n",
              "          await google.colab.output.renderOutput(dataTable, element);\n",
              "          const docLink = document.createElement('div');\n",
              "          docLink.innerHTML = docLinkHtml;\n",
              "          element.appendChild(docLink);\n",
              "        }\n",
              "      </script>\n",
              "    </div>\n",
              "  </div>\n",
              "  "
            ]
          },
          "metadata": {},
          "execution_count": 125
        }
      ],
      "source": [
        "df_male = df_male[:100]\n",
        "df_female = df_female[:100]\n",
        "df_female"
      ]
    },
    {
      "cell_type": "code",
      "source": [
        "df_female.to_csv('female.csv')"
      ],
      "metadata": {
        "id": "CqMZat1ufrjL"
      },
      "execution_count": null,
      "outputs": []
    },
    {
      "cell_type": "markdown",
      "metadata": {
        "id": "JuJ3Z39RaKA8"
      },
      "source": [
        "Define the audio path"
      ]
    },
    {
      "cell_type": "code",
      "execution_count": null,
      "metadata": {
        "id": "dAzaL0tMaKA9"
      },
      "outputs": [],
      "source": [
        "TRAIN_PATH = '/content/voice/cv-valid-train/'"
      ]
    },
    {
      "cell_type": "markdown",
      "metadata": {
        "id": "zs-oe8t-aKA_"
      },
      "source": [
        "The function to convert mp3 to wav"
      ]
    },
    {
      "cell_type": "code",
      "execution_count": null,
      "metadata": {
        "id": "CzZlQy3caKBA"
      },
      "outputs": [],
      "source": [
        "def convert_to_wav(df, m_f, path=TRAIN_PATH):\n",
        "    srcs = []\n",
        "    for file in tqdm(df['filename']):\n",
        "        sound = AudioSegment.from_mp3(path+file)\n",
        "        \n",
        "\t\t# Create new wav files based on existing mp3 files\n",
        "        if m_f == 'male':\n",
        "            sound.export('male-'+file.split('/')[-1].split('.')[0]+'.wav', format='wav')\n",
        "        elif m_f == 'female':\n",
        "            sound.export('female-'+file.split('/')[-1].split('.')[0]+'.wav', format='wav')\n",
        "        \n",
        "    return"
      ]
    },
    {
      "cell_type": "code",
      "source": [],
      "metadata": {
        "id": "3Hka9vN2y3rr"
      },
      "execution_count": null,
      "outputs": []
    },
    {
      "cell_type": "markdown",
      "metadata": {
        "id": "VofJIWp0aKBB"
      },
      "source": [
        "How to use the convert_to_wav() function"
      ]
    },
    {
      "cell_type": "code",
      "execution_count": null,
      "metadata": {
        "id": "S_YFhlFjaKBC",
        "outputId": "0e0d64c3-e036-4b68-f4a0-fafe34f9d1b6",
        "colab": {
          "base_uri": "https://localhost:8080/",
          "height": 380
        }
      },
      "outputs": [
        {
          "output_type": "stream",
          "name": "stderr",
          "text": [
            "100%|██████████| 100/100 [00:18<00:00,  5.28it/s]\n",
            " 85%|████████▌ | 85/100 [00:16<00:02,  5.02it/s]\n"
          ]
        },
        {
          "output_type": "error",
          "ename": "FileNotFoundError",
          "evalue": "ignored",
          "traceback": [
            "\u001b[0;31m---------------------------------------------------------------------------\u001b[0m",
            "\u001b[0;31mFileNotFoundError\u001b[0m                         Traceback (most recent call last)",
            "\u001b[0;32m<ipython-input-39-3f72e4b0fdf5>\u001b[0m in \u001b[0;36m<module>\u001b[0;34m\u001b[0m\n\u001b[1;32m      1\u001b[0m \u001b[0mconvert_to_wav\u001b[0m\u001b[0;34m(\u001b[0m\u001b[0mdf_male\u001b[0m\u001b[0;34m,\u001b[0m \u001b[0mm_f\u001b[0m\u001b[0;34m=\u001b[0m\u001b[0;34m'male'\u001b[0m\u001b[0;34m)\u001b[0m\u001b[0;34m\u001b[0m\u001b[0;34m\u001b[0m\u001b[0m\n\u001b[0;32m----> 2\u001b[0;31m \u001b[0mconvert_to_wav\u001b[0m\u001b[0;34m(\u001b[0m\u001b[0mdf_female\u001b[0m\u001b[0;34m,\u001b[0m \u001b[0mm_f\u001b[0m\u001b[0;34m=\u001b[0m\u001b[0;34m'female'\u001b[0m\u001b[0;34m)\u001b[0m\u001b[0;34m\u001b[0m\u001b[0;34m\u001b[0m\u001b[0m\n\u001b[0m",
            "\u001b[0;32m<ipython-input-37-c6371a658a7a>\u001b[0m in \u001b[0;36mconvert_to_wav\u001b[0;34m(df, m_f, path)\u001b[0m\n\u001b[1;32m      2\u001b[0m     \u001b[0msrcs\u001b[0m \u001b[0;34m=\u001b[0m \u001b[0;34m[\u001b[0m\u001b[0;34m]\u001b[0m\u001b[0;34m\u001b[0m\u001b[0;34m\u001b[0m\u001b[0m\n\u001b[1;32m      3\u001b[0m     \u001b[0;32mfor\u001b[0m \u001b[0mfile\u001b[0m \u001b[0;32min\u001b[0m \u001b[0mtqdm\u001b[0m\u001b[0;34m(\u001b[0m\u001b[0mdf\u001b[0m\u001b[0;34m[\u001b[0m\u001b[0;34m'filename'\u001b[0m\u001b[0;34m]\u001b[0m\u001b[0;34m)\u001b[0m\u001b[0;34m:\u001b[0m\u001b[0;34m\u001b[0m\u001b[0;34m\u001b[0m\u001b[0m\n\u001b[0;32m----> 4\u001b[0;31m         \u001b[0msound\u001b[0m \u001b[0;34m=\u001b[0m \u001b[0mAudioSegment\u001b[0m\u001b[0;34m.\u001b[0m\u001b[0mfrom_mp3\u001b[0m\u001b[0;34m(\u001b[0m\u001b[0mpath\u001b[0m\u001b[0;34m+\u001b[0m\u001b[0mfile\u001b[0m\u001b[0;34m)\u001b[0m\u001b[0;34m\u001b[0m\u001b[0;34m\u001b[0m\u001b[0m\n\u001b[0m\u001b[1;32m      5\u001b[0m \u001b[0;34m\u001b[0m\u001b[0m\n\u001b[1;32m      6\u001b[0m                 \u001b[0;31m# Create new wav files based on existing mp3 files\u001b[0m\u001b[0;34m\u001b[0m\u001b[0;34m\u001b[0m\u001b[0;34m\u001b[0m\u001b[0m\n",
            "\u001b[0;32m/usr/local/lib/python3.8/dist-packages/pydub/audio_segment.py\u001b[0m in \u001b[0;36mfrom_mp3\u001b[0;34m(cls, file, parameters)\u001b[0m\n\u001b[1;32m    794\u001b[0m     \u001b[0;34m@\u001b[0m\u001b[0mclassmethod\u001b[0m\u001b[0;34m\u001b[0m\u001b[0;34m\u001b[0m\u001b[0m\n\u001b[1;32m    795\u001b[0m     \u001b[0;32mdef\u001b[0m \u001b[0mfrom_mp3\u001b[0m\u001b[0;34m(\u001b[0m\u001b[0mcls\u001b[0m\u001b[0;34m,\u001b[0m \u001b[0mfile\u001b[0m\u001b[0;34m,\u001b[0m \u001b[0mparameters\u001b[0m\u001b[0;34m=\u001b[0m\u001b[0;32mNone\u001b[0m\u001b[0;34m)\u001b[0m\u001b[0;34m:\u001b[0m\u001b[0;34m\u001b[0m\u001b[0;34m\u001b[0m\u001b[0m\n\u001b[0;32m--> 796\u001b[0;31m         \u001b[0;32mreturn\u001b[0m \u001b[0mcls\u001b[0m\u001b[0;34m.\u001b[0m\u001b[0mfrom_file\u001b[0m\u001b[0;34m(\u001b[0m\u001b[0mfile\u001b[0m\u001b[0;34m,\u001b[0m \u001b[0;34m'mp3'\u001b[0m\u001b[0;34m,\u001b[0m \u001b[0mparameters\u001b[0m\u001b[0;34m=\u001b[0m\u001b[0mparameters\u001b[0m\u001b[0;34m)\u001b[0m\u001b[0;34m\u001b[0m\u001b[0;34m\u001b[0m\u001b[0m\n\u001b[0m\u001b[1;32m    797\u001b[0m \u001b[0;34m\u001b[0m\u001b[0m\n\u001b[1;32m    798\u001b[0m     \u001b[0;34m@\u001b[0m\u001b[0mclassmethod\u001b[0m\u001b[0;34m\u001b[0m\u001b[0;34m\u001b[0m\u001b[0m\n",
            "\u001b[0;32m/usr/local/lib/python3.8/dist-packages/pydub/audio_segment.py\u001b[0m in \u001b[0;36mfrom_file\u001b[0;34m(cls, file, format, codec, parameters, start_second, duration, **kwargs)\u001b[0m\n\u001b[1;32m    649\u001b[0m         \u001b[0;32mexcept\u001b[0m \u001b[0mTypeError\u001b[0m\u001b[0;34m:\u001b[0m\u001b[0;34m\u001b[0m\u001b[0;34m\u001b[0m\u001b[0m\n\u001b[1;32m    650\u001b[0m             \u001b[0mfilename\u001b[0m \u001b[0;34m=\u001b[0m \u001b[0;32mNone\u001b[0m\u001b[0;34m\u001b[0m\u001b[0;34m\u001b[0m\u001b[0m\n\u001b[0;32m--> 651\u001b[0;31m         \u001b[0mfile\u001b[0m\u001b[0;34m,\u001b[0m \u001b[0mclose_file\u001b[0m \u001b[0;34m=\u001b[0m \u001b[0m_fd_or_path_or_tempfile\u001b[0m\u001b[0;34m(\u001b[0m\u001b[0mfile\u001b[0m\u001b[0;34m,\u001b[0m \u001b[0;34m'rb'\u001b[0m\u001b[0;34m,\u001b[0m \u001b[0mtempfile\u001b[0m\u001b[0;34m=\u001b[0m\u001b[0;32mFalse\u001b[0m\u001b[0;34m)\u001b[0m\u001b[0;34m\u001b[0m\u001b[0;34m\u001b[0m\u001b[0m\n\u001b[0m\u001b[1;32m    652\u001b[0m \u001b[0;34m\u001b[0m\u001b[0m\n\u001b[1;32m    653\u001b[0m         \u001b[0;32mif\u001b[0m \u001b[0mformat\u001b[0m\u001b[0;34m:\u001b[0m\u001b[0;34m\u001b[0m\u001b[0;34m\u001b[0m\u001b[0m\n",
            "\u001b[0;32m/usr/local/lib/python3.8/dist-packages/pydub/utils.py\u001b[0m in \u001b[0;36m_fd_or_path_or_tempfile\u001b[0;34m(fd, mode, tempfile)\u001b[0m\n\u001b[1;32m     58\u001b[0m \u001b[0;34m\u001b[0m\u001b[0m\n\u001b[1;32m     59\u001b[0m     \u001b[0;32mif\u001b[0m \u001b[0misinstance\u001b[0m\u001b[0;34m(\u001b[0m\u001b[0mfd\u001b[0m\u001b[0;34m,\u001b[0m \u001b[0mbasestring\u001b[0m\u001b[0;34m)\u001b[0m\u001b[0;34m:\u001b[0m\u001b[0;34m\u001b[0m\u001b[0;34m\u001b[0m\u001b[0m\n\u001b[0;32m---> 60\u001b[0;31m         \u001b[0mfd\u001b[0m \u001b[0;34m=\u001b[0m \u001b[0mopen\u001b[0m\u001b[0;34m(\u001b[0m\u001b[0mfd\u001b[0m\u001b[0;34m,\u001b[0m \u001b[0mmode\u001b[0m\u001b[0;34m=\u001b[0m\u001b[0mmode\u001b[0m\u001b[0;34m)\u001b[0m\u001b[0;34m\u001b[0m\u001b[0;34m\u001b[0m\u001b[0m\n\u001b[0m\u001b[1;32m     61\u001b[0m         \u001b[0mclose_fd\u001b[0m \u001b[0;34m=\u001b[0m \u001b[0;32mTrue\u001b[0m\u001b[0;34m\u001b[0m\u001b[0;34m\u001b[0m\u001b[0m\n\u001b[1;32m     62\u001b[0m \u001b[0;34m\u001b[0m\u001b[0m\n",
            "\u001b[0;31mFileNotFoundError\u001b[0m: [Errno 2] No such file or directory: '/content/voice/cv-valid-train/cv-valid-train/sample-001043.mp3'"
          ]
        }
      ],
      "source": [
        "convert_to_wav(df_male, m_f='male')\n"
      ]
    },
    {
      "cell_type": "code",
      "source": [
        "convert_to_wav(df_female, m_f='female')"
      ],
      "metadata": {
        "colab": {
          "base_uri": "https://localhost:8080/"
        },
        "id": "DNBI3iuCfId_",
        "outputId": "031bd6fe-72c0-44bd-dbd6-8d09951a2360"
      },
      "execution_count": null,
      "outputs": [
        {
          "output_type": "stream",
          "name": "stderr",
          "text": [
            "100%|██████████| 100/100 [00:18<00:00,  5.39it/s]\n"
          ]
        }
      ]
    },
    {
      "cell_type": "markdown",
      "metadata": {
        "id": "snXwPrGlaKBE"
      },
      "source": [
        "Define a function to load the raw audio files"
      ]
    },
    {
      "cell_type": "code",
      "execution_count": null,
      "metadata": {
        "id": "UBVh6VPNaKBI"
      },
      "outputs": [],
      "source": [
        "def load_audio(audio_files):\n",
        "\t# Allocate empty list for male and female voices\n",
        "    male_voices = []\n",
        "    female_voices = []\n",
        "    for file in tqdm(audio_files):\n",
        "        if file.split('-')[0] == 'male':\n",
        "            male_voices.append(librosa.load(file))\n",
        "        elif file.split('-')[0] == 'female':\n",
        "            female_voices.append(librosa.load(file))\n",
        "    \n",
        "\t# Convert the list into Numpy array\n",
        "    male_voices = np.array(male_voices)\n",
        "    female_voices = np.array(female_voices)\n",
        "    \n",
        "    return male_voices, female_voices"
      ]
    },
    {
      "cell_type": "markdown",
      "metadata": {
        "id": "z25pZ1dgaKBJ"
      },
      "source": [
        "How to use load_audio() function"
      ]
    },
    {
      "cell_type": "code",
      "source": [],
      "metadata": {
        "id": "TXZJ9MND0ZGk"
      },
      "execution_count": null,
      "outputs": []
    },
    {
      "cell_type": "code",
      "execution_count": null,
      "metadata": {
        "id": "KACKxBb1aKBK",
        "colab": {
          "base_uri": "https://localhost:8080/"
        },
        "outputId": "d28dd8e7-91e9-4e22-da43-487de19ff603"
      },
      "outputs": [
        {
          "output_type": "stream",
          "name": "stderr",
          "text": [
            "100%|██████████| 389/389 [01:39<00:00,  3.92it/s]\n",
            "<ipython-input-47-77ae6b9e449c>:12: VisibleDeprecationWarning: Creating an ndarray from ragged nested sequences (which is a list-or-tuple of lists-or-tuples-or ndarrays with different lengths or shapes) is deprecated. If you meant to do this, you must specify 'dtype=object' when creating the ndarray.\n",
            "  male_voices = np.array(male_voices)\n",
            "<ipython-input-47-77ae6b9e449c>:13: VisibleDeprecationWarning: Creating an ndarray from ragged nested sequences (which is a list-or-tuple of lists-or-tuples-or ndarrays with different lengths or shapes) is deprecated. If you meant to do this, you must specify 'dtype=object' when creating the ndarray.\n",
            "  female_voices = np.array(female_voices)\n"
          ]
        }
      ],
      "source": [
        "male_voices, female_voices = load_audio(os.listdir())"
      ]
    },
    {
      "cell_type": "markdown",
      "metadata": {
        "id": "v68jE20NaKBK"
      },
      "source": [
        "The function to extract audio features"
      ]
    },
    {
      "cell_type": "code",
      "execution_count": null,
      "metadata": {
        "id": "XR7Se4hWaKBL"
      },
      "outputs": [],
      "source": [
        "def extract_features(audio_data):\n",
        "\taudio_waves = audio_data[:,0]\n",
        "\tsamplerate = audio_data[:,1][1]\n",
        "\t\n",
        "\tfeatures = []\n",
        "\tfor audio_wave in tqdm(audio_waves):\n",
        "\t\tfeatures.append(mfcc(audio_wave, samplerate=samplerate, numcep=26))\n",
        "    \n",
        "\tfeatures = np.array(features)\n",
        "\treturn features"
      ]
    },
    {
      "cell_type": "code",
      "source": [
        "print(male_voices[:,1][1])\n",
        "print(male_voices.shape)"
      ],
      "metadata": {
        "colab": {
          "base_uri": "https://localhost:8080/"
        },
        "id": "vRbZbLuR3-6j",
        "outputId": "da6244ae-3f15-4c9b-bc84-c3403e438c51"
      },
      "execution_count": null,
      "outputs": [
        {
          "output_type": "stream",
          "name": "stdout",
          "text": [
            "[array([0.0000000e+00, 0.0000000e+00, 0.0000000e+00, ..., 1.1360781e-05,\n",
            "        1.9946985e-05, 0.0000000e+00], dtype=float32)\n",
            " array([ 0.        ,  0.        ,  0.        , ..., -0.00014781,\n",
            "        -0.00021482,  0.        ], dtype=float32)\n",
            " array([0.0000000e+00, 0.0000000e+00, 0.0000000e+00, ..., 6.1732135e-06,\n",
            "        6.1608851e-05, 0.0000000e+00], dtype=float32)\n",
            " array([ 0.0000000e+00,  0.0000000e+00,  0.0000000e+00, ...,\n",
            "        -4.4614171e-06,  1.7064467e-05,  0.0000000e+00], dtype=float32)\n",
            " array([0., 0., 0., ..., 0., 0., 0.], dtype=float32)\n",
            " array([ 0.0000000e+00,  0.0000000e+00,  0.0000000e+00, ...,\n",
            "         2.0939366e-07, -1.2034438e-07,  0.0000000e+00], dtype=float32)\n",
            " array([ 0.0000000e+00,  0.0000000e+00,  0.0000000e+00, ...,\n",
            "        -1.2452439e-07,  1.2027940e-07,  0.0000000e+00], dtype=float32)\n",
            " array([ 0.0000000e+00,  0.0000000e+00,  0.0000000e+00, ...,\n",
            "         5.6625213e-06, -1.2229867e-05,  0.0000000e+00], dtype=float32)\n",
            " array([0.0000000e+00, 0.0000000e+00, 0.0000000e+00, ..., 6.6979765e-06,\n",
            "        1.0397564e-05, 0.0000000e+00], dtype=float32)\n",
            " array([ 0.0000000e+00,  0.0000000e+00,  0.0000000e+00, ...,\n",
            "        -1.2728684e-08,  9.1553423e-09, -6.0120553e-09], dtype=float32)\n",
            " array([0., 0., 0., ..., 0., 0., 0.], dtype=float32)\n",
            " array([0.0000000e+00, 0.0000000e+00, 0.0000000e+00, ..., 6.9441114e-08,\n",
            "        3.2360280e-05, 1.0697581e-05], dtype=float32)\n",
            " array([ 0.0000000e+00,  0.0000000e+00,  0.0000000e+00, ...,\n",
            "        -8.8055904e-06, -7.0855185e-06,  0.0000000e+00], dtype=float32)\n",
            " array([0., 0., 0., ..., 0., 0., 0.], dtype=float32)\n",
            " array([0., 0., 0., ..., 0., 0., 0.], dtype=float32)\n",
            " array([0., 0., 0., ..., 0., 0., 0.], dtype=float32)\n",
            " array([ 0.0000000e+00,  0.0000000e+00,  0.0000000e+00, ...,\n",
            "         2.0240106e-05, -3.1310818e-05,  0.0000000e+00], dtype=float32)\n",
            " array([ 0.00000000e+00,  0.00000000e+00,  0.00000000e+00, ...,\n",
            "        -1.34285187e-07,  1.01634306e-07,  0.00000000e+00], dtype=float32)\n",
            " array([0.0000000e+00, 0.0000000e+00, 0.0000000e+00, ..., 2.3343788e-05,\n",
            "        3.1077131e-04, 0.0000000e+00], dtype=float32)\n",
            " array([0., 0., 0., ..., 0., 0., 0.], dtype=float32)\n",
            " array([ 0.0000000e+00,  0.0000000e+00,  0.0000000e+00, ...,\n",
            "        -2.2053970e-05,  4.0907235e-06,  0.0000000e+00], dtype=float32)\n",
            " array([ 0.        ,  0.        ,  0.        , ..., -0.00418306,\n",
            "        -0.00455845,  0.        ], dtype=float32)\n",
            " array([ 0.0000000e+00,  0.0000000e+00,  0.0000000e+00, ...,\n",
            "         6.3820485e-06, -3.7740137e-05, -5.1596726e-06], dtype=float32)\n",
            " array([0.        , 0.        , 0.        , ..., 0.000936  , 0.00117717,\n",
            "        0.        ], dtype=float32)\n",
            " array([0., 0., 0., ..., 0., 0., 0.], dtype=float32)\n",
            " array([ 0.        ,  0.        ,  0.        , ..., -0.00703302,\n",
            "        -0.00517938,  0.        ], dtype=float32)\n",
            " array([0.000000e+00, 0.000000e+00, 0.000000e+00, ..., 7.087144e-06,\n",
            "        1.597705e-04, 0.000000e+00], dtype=float32)\n",
            " array([0., 0., 0., ..., 0., 0., 0.], dtype=float32)\n",
            " array([0., 0., 0., ..., 0., 0., 0.], dtype=float32)\n",
            " array([ 0.0000000e+00,  0.0000000e+00,  0.0000000e+00, ...,\n",
            "         4.6555078e-06, -6.8089116e-06,  3.0629228e-05], dtype=float32)\n",
            " array([0., 0., 0., ..., 0., 0., 0.], dtype=float32)\n",
            " array([ 0.0000000e+00,  0.0000000e+00,  0.0000000e+00, ...,\n",
            "        -3.4832778e-05, -4.7087837e-05,  0.0000000e+00], dtype=float32)\n",
            " array([0.00000000e+00, 0.00000000e+00, 0.00000000e+00, ...,\n",
            "        1.06800235e-05, 7.07173022e-05, 0.00000000e+00], dtype=float32)\n",
            " array([0., 0., 0., ..., 0., 0., 0.], dtype=float32)\n",
            " array([0., 0., 0., ..., 0., 0., 0.], dtype=float32)\n",
            " array([0., 0., 0., ..., 0., 0., 0.], dtype=float32)\n",
            " array([0., 0., 0., ..., 0., 0., 0.], dtype=float32)\n",
            " array([ 0.0000000e+00,  0.0000000e+00,  0.0000000e+00, ...,\n",
            "         6.9085536e-07, -6.0808213e-07,  0.0000000e+00], dtype=float32)\n",
            " array([ 0.0000000e+00,  0.0000000e+00,  0.0000000e+00, ...,\n",
            "        -3.0686231e-05, -5.3262414e-05,  0.0000000e+00], dtype=float32)\n",
            " array([ 0.0000000e+00,  0.0000000e+00,  0.0000000e+00, ...,\n",
            "        -6.0314743e-04, -9.0539077e-05,  0.0000000e+00], dtype=float32)\n",
            " array([0., 0., 0., ..., 0., 0., 0.], dtype=float32)\n",
            " array([ 0.0000000e+00,  0.0000000e+00,  0.0000000e+00, ...,\n",
            "        -2.9825476e-06,  1.6342474e-05,  0.0000000e+00], dtype=float32)\n",
            " array([ 0.0000000e+00,  0.0000000e+00,  0.0000000e+00, ...,\n",
            "        -3.3775507e-06, -3.4256685e-05,  0.0000000e+00], dtype=float32)\n",
            " array([0., 0., 0., ..., 0., 0., 0.], dtype=float32)\n",
            " array([0., 0., 0., ..., 0., 0., 0.], dtype=float32)\n",
            " array([ 0.000000e+00,  0.000000e+00,  0.000000e+00, ..., -8.855348e-06,\n",
            "         3.604495e-06,  0.000000e+00], dtype=float32)\n",
            " array([0., 0., 0., ..., 0., 0., 0.], dtype=float32)\n",
            " array([0., 0., 0., ..., 0., 0., 0.], dtype=float32)\n",
            " array([0.0000000e+00, 0.0000000e+00, 0.0000000e+00, ..., 3.0920706e-05,\n",
            "        9.7573211e-06, 0.0000000e+00], dtype=float32)\n",
            " array([ 0.000000e+00,  0.000000e+00,  0.000000e+00, ..., -6.799912e-05,\n",
            "        -3.838773e-05,  0.000000e+00], dtype=float32)\n",
            " array([0.0000000e+00, 0.0000000e+00, 0.0000000e+00, ..., 3.3280972e-05,\n",
            "        2.0949163e-05, 0.0000000e+00], dtype=float32)\n",
            " array([0.00000000e+00, 0.00000000e+00, 0.00000000e+00, ...,\n",
            "        1.17634945e-05, 3.24400753e-05, 0.00000000e+00], dtype=float32)\n",
            " array([0., 0., 0., ..., 0., 0., 0.], dtype=float32)\n",
            " array([ 0.000000e+00,  0.000000e+00,  0.000000e+00, ..., -2.206797e-07,\n",
            "         3.441345e-07,  0.000000e+00], dtype=float32)\n",
            " array([0., 0., 0., ..., 0., 0., 0.], dtype=float32)\n",
            " array([ 0.0000000e+00,  0.0000000e+00,  0.0000000e+00, ...,\n",
            "        -1.1030471e-07,  5.2966012e-08,  0.0000000e+00], dtype=float32)\n",
            " array([0.        , 0.        , 0.        , ..., 0.00094658, 0.0011823 ,\n",
            "        0.        ], dtype=float32)\n",
            " array([0., 0., 0., ..., 0., 0., 0.], dtype=float32)\n",
            " array([0.0000000e+00, 0.0000000e+00, 0.0000000e+00, ..., 3.7162637e-04,\n",
            "        6.1905630e-05, 0.0000000e+00], dtype=float32)\n",
            " array([0., 0., 0., ..., 0., 0., 0.], dtype=float32)\n",
            " array([ 0.0000000e+00,  0.0000000e+00,  0.0000000e+00, ...,\n",
            "         2.1335223e-05, -1.8009645e-07,  0.0000000e+00], dtype=float32)\n",
            " array([ 0.0000000e+00,  0.0000000e+00,  0.0000000e+00, ...,\n",
            "        -2.7171121e-05,  1.0475604e-05,  0.0000000e+00], dtype=float32)\n",
            " array([ 0.0000000e+00,  0.0000000e+00,  0.0000000e+00, ...,\n",
            "        -5.2686264e-05, -2.3636649e-05,  0.0000000e+00], dtype=float32)\n",
            " array([ 0.0000000e+00,  0.0000000e+00,  0.0000000e+00, ...,\n",
            "        -1.1142344e-05,  5.2658539e-05,  0.0000000e+00], dtype=float32)\n",
            " array([0.0000000e+00, 0.0000000e+00, 0.0000000e+00, ..., 2.2936123e-05,\n",
            "        7.2358384e-06, 0.0000000e+00], dtype=float32)\n",
            " array([0., 0., 0., ..., 0., 0., 0.], dtype=float32)\n",
            " array([0., 0., 0., ..., 0., 0., 0.], dtype=float32)\n",
            " array([0., 0., 0., ..., 0., 0., 0.], dtype=float32)\n",
            " array([ 0.0000000e+00,  0.0000000e+00,  0.0000000e+00, ...,\n",
            "         4.0562336e-05, -2.7181253e-05,  0.0000000e+00], dtype=float32)\n",
            " array([0., 0., 0., ..., 0., 0., 0.], dtype=float32)\n",
            " array([0., 0., 0., ..., 0., 0., 0.], dtype=float32)\n",
            " array([ 0.000000e+00,  0.000000e+00,  0.000000e+00, ..., -3.234212e-07,\n",
            "         3.415296e-07,  0.000000e+00], dtype=float32)\n",
            " array([0., 0., 0., ..., 0., 0., 0.], dtype=float32)\n",
            " array([0., 0., 0., ..., 0., 0., 0.], dtype=float32)\n",
            " array([0., 0., 0., ..., 0., 0., 0.], dtype=float32)\n",
            " array([0., 0., 0., ..., 0., 0., 0.], dtype=float32)\n",
            " array([ 0.0000000e+00,  0.0000000e+00,  0.0000000e+00, ...,\n",
            "        -2.6539590e-07,  2.0807865e-07,  0.0000000e+00], dtype=float32)\n",
            " array([0., 0., 0., ..., 0., 0., 0.], dtype=float32)\n",
            " array([ 0.0000000e+00,  0.0000000e+00,  0.0000000e+00, ...,\n",
            "         4.5492097e-06, -2.8259074e-06,  0.0000000e+00], dtype=float32)\n",
            " array([ 0.0000000e+00,  0.0000000e+00,  0.0000000e+00, ...,\n",
            "         5.8534482e-08, -5.8392871e-08,  0.0000000e+00], dtype=float32)\n",
            " array([0., 0., 0., ..., 0., 0., 0.], dtype=float32)\n",
            " array([0., 0., 0., ..., 0., 0., 0.], dtype=float32)\n",
            " array([0., 0., 0., ..., 0., 0., 0.], dtype=float32)\n",
            " array([0.        , 0.        , 0.        , ..., 0.00030369, 0.00014699,\n",
            "        0.        ], dtype=float32)\n",
            " array([0.        , 0.        , 0.        , ..., 0.00024854, 0.0003045 ,\n",
            "        0.        ], dtype=float32)\n",
            " array([0., 0., 0., ..., 0., 0., 0.], dtype=float32)\n",
            " array([ 0.0000000e+00,  0.0000000e+00,  0.0000000e+00, ...,\n",
            "         6.3011132e-05, -1.0032137e-04,  0.0000000e+00], dtype=float32)\n",
            " array([ 0.0000000e+00,  0.0000000e+00,  0.0000000e+00, ...,\n",
            "         7.0190628e-04, -7.8905425e-05,  0.0000000e+00], dtype=float32)\n",
            " array([0., 0., 0., ..., 0., 0., 0.], dtype=float32)\n",
            " array([0., 0., 0., ..., 0., 0., 0.], dtype=float32)\n",
            " array([ 0.0000000e+00,  0.0000000e+00,  0.0000000e+00, ...,\n",
            "         8.8364466e-08, -2.8373681e-05,  0.0000000e+00], dtype=float32)\n",
            " array([ 0.0000000e+00,  0.0000000e+00,  0.0000000e+00, ...,\n",
            "        -2.2324418e-08,  1.5122879e-08,  0.0000000e+00], dtype=float32)\n",
            " array([0., 0., 0., ..., 0., 0., 0.], dtype=float32)\n",
            " array([ 0.0000000e+00,  0.0000000e+00,  0.0000000e+00, ...,\n",
            "         1.3050786e-05, -2.8055138e-05,  0.0000000e+00], dtype=float32)\n",
            " array([ 0.0000000e+00,  0.0000000e+00,  0.0000000e+00, ...,\n",
            "        -1.9382585e-06,  1.1262844e-05,  0.0000000e+00], dtype=float32)\n",
            " array([0.0000000e+00, 0.0000000e+00, 0.0000000e+00, ..., 2.5111238e-05,\n",
            "        4.1826243e-06, 0.0000000e+00], dtype=float32)\n",
            " array([0., 0., 0., ..., 0., 0., 0.], dtype=float32)\n",
            " array([ 0.0000000e+00,  0.0000000e+00,  0.0000000e+00, ...,\n",
            "        -1.1863264e-05,  6.3925021e-05,  0.0000000e+00], dtype=float32)\n",
            " array([0., 0., 0., ..., 0., 0., 0.], dtype=float32)\n",
            " array([ 0.0000000e+00,  0.0000000e+00,  0.0000000e+00, ...,\n",
            "        -1.7102348e-05,  9.9423414e-07,  0.0000000e+00], dtype=float32)\n",
            " array([0., 0., 0., ..., 0., 0., 0.], dtype=float32)\n",
            " array([0., 0., 0., ..., 0., 0., 0.], dtype=float32)\n",
            " array([ 0.0000000e+00,  0.0000000e+00,  0.0000000e+00, ...,\n",
            "         9.3831477e-05, -3.5850877e-05,  0.0000000e+00], dtype=float32)\n",
            " array([0.0000000e+00, 0.0000000e+00, 0.0000000e+00, ..., 1.2022818e-05,\n",
            "        1.8211718e-04, 0.0000000e+00], dtype=float32)\n",
            " array([ 0.0000000e+00,  0.0000000e+00,  0.0000000e+00, ...,\n",
            "        -2.4257859e-06, -8.3833520e-06,  0.0000000e+00], dtype=float32)\n",
            " array([ 0.000000e+00,  0.000000e+00,  0.000000e+00, ..., -7.591430e-05,\n",
            "        -5.705226e-05,  0.000000e+00], dtype=float32)\n",
            " array([0.0000000e+00, 0.0000000e+00, 0.0000000e+00, ..., 2.3296885e-05,\n",
            "        6.3516595e-06, 0.0000000e+00], dtype=float32)\n",
            " array([ 0.        ,  0.        ,  0.        , ..., -0.00247537,\n",
            "        -0.00236013,  0.        ], dtype=float32)\n",
            " array([0.0000000e+00, 0.0000000e+00, 0.0000000e+00, ..., 1.9940511e-07,\n",
            "        7.5803499e-08, 0.0000000e+00], dtype=float32)\n",
            " array([0., 0., 0., ..., 0., 0., 0.], dtype=float32)\n",
            " array([0., 0., 0., ..., 0., 0., 0.], dtype=float32)\n",
            " array([0.        , 0.        , 0.        , ..., 0.00069002, 0.00055467,\n",
            "        0.        ], dtype=float32)\n",
            " array([0., 0., 0., ..., 0., 0., 0.], dtype=float32)\n",
            " array([ 0.0000000e+00,  0.0000000e+00,  0.0000000e+00, ...,\n",
            "         5.5303797e-05, -1.6186929e-04,  0.0000000e+00], dtype=float32)\n",
            " array([0., 0., 0., ..., 0., 0., 0.], dtype=float32)\n",
            " array([0.0000000e+00, 0.0000000e+00, 0.0000000e+00, ..., 1.7121462e-08,\n",
            "        2.3387934e-09, 0.0000000e+00], dtype=float32)\n",
            " array([ 0.0000000e+00,  0.0000000e+00,  0.0000000e+00, ...,\n",
            "        -3.1821761e-09,  9.1715996e-10,  0.0000000e+00], dtype=float32)\n",
            " array([0., 0., 0., ..., 0., 0., 0.], dtype=float32)\n",
            " array([0., 0., 0., ..., 0., 0., 0.], dtype=float32)\n",
            " array([0., 0., 0., ..., 0., 0., 0.], dtype=float32)\n",
            " array([0., 0., 0., ..., 0., 0., 0.], dtype=float32)\n",
            " array([ 0.0000000e+00,  0.0000000e+00,  0.0000000e+00, ...,\n",
            "         1.5821781e-05, -2.9373201e-05,  0.0000000e+00], dtype=float32)\n",
            " array([0., 0., 0., ..., 0., 0., 0.], dtype=float32)\n",
            " array([0., 0., 0., ..., 0., 0., 0.], dtype=float32)\n",
            " array([0., 0., 0., ..., 0., 0., 0.], dtype=float32)\n",
            " array([0., 0., 0., ..., 0., 0., 0.], dtype=float32)\n",
            " array([0., 0., 0., ..., 0., 0., 0.], dtype=float32)\n",
            " array([0., 0., 0., ..., 0., 0., 0.], dtype=float32)\n",
            " array([ 0.0000000e+00,  0.0000000e+00,  0.0000000e+00, ...,\n",
            "         1.3949876e-06, -9.5513008e-07,  0.0000000e+00], dtype=float32)\n",
            " array([ 0.0000000e+00,  0.0000000e+00,  0.0000000e+00, ...,\n",
            "         3.3511178e-04, -6.7499109e-06,  0.0000000e+00], dtype=float32)\n",
            " array([ 0.0000000e+00,  0.0000000e+00,  0.0000000e+00, ...,\n",
            "        -2.4032894e-04, -1.8549061e-05,  0.0000000e+00], dtype=float32)\n",
            " array([ 0.0000000e+00,  0.0000000e+00,  0.0000000e+00, ...,\n",
            "         2.8034865e-05, -1.4361907e-05,  0.0000000e+00], dtype=float32)\n",
            " array([ 0.0000000e+00,  0.0000000e+00,  0.0000000e+00, ...,\n",
            "        -1.8451914e-05, -3.1441075e-05,  0.0000000e+00], dtype=float32)\n",
            " array([ 0.0000000e+00,  0.0000000e+00,  0.0000000e+00, ...,\n",
            "         5.9578906e-06, -6.0912826e-05,  0.0000000e+00], dtype=float32)\n",
            " array([ 0.0000000e+00,  0.0000000e+00,  0.0000000e+00, ...,\n",
            "        -1.9374254e-07,  2.3675618e-07,  0.0000000e+00], dtype=float32)\n",
            " array([ 0.0000000e+00,  0.0000000e+00,  0.0000000e+00, ...,\n",
            "        -5.5860278e-07,  2.7628179e-05,  0.0000000e+00], dtype=float32)\n",
            " array([ 0.0000000e+00,  0.0000000e+00,  0.0000000e+00, ...,\n",
            "         8.6981083e-07, -1.1858798e-05,  0.0000000e+00], dtype=float32)\n",
            " array([ 0.0000000e+00,  0.0000000e+00,  0.0000000e+00, ...,\n",
            "        -8.1466178e-06,  1.9180163e-05,  0.0000000e+00], dtype=float32)\n",
            " array([ 0.        ,  0.        ,  0.        , ..., -0.0002461 ,\n",
            "        -0.00017698,  0.        ], dtype=float32)\n",
            " array([0., 0., 0., ..., 0., 0., 0.], dtype=float32)\n",
            " array([0., 0., 0., ..., 0., 0., 0.], dtype=float32)\n",
            " array([0., 0., 0., ..., 0., 0., 0.], dtype=float32)\n",
            " array([ 0.0000000e+00,  0.0000000e+00,  0.0000000e+00, ...,\n",
            "         9.0739723e-06, -1.6644493e-05,  0.0000000e+00], dtype=float32)\n",
            " array([0., 0., 0., ..., 0., 0., 0.], dtype=float32)\n",
            " array([ 0.0000000e+00,  0.0000000e+00,  0.0000000e+00, ...,\n",
            "         4.4340407e-08, -2.7873970e-08,  0.0000000e+00], dtype=float32)\n",
            " array([ 0.0000000e+00,  0.0000000e+00,  0.0000000e+00, ...,\n",
            "        -2.1934286e-06,  8.9906473e-07,  0.0000000e+00], dtype=float32)\n",
            " array([0., 0., 0., ..., 0., 0., 0.], dtype=float32)\n",
            " array([0.0000000e+00, 0.0000000e+00, 0.0000000e+00, ..., 4.6767305e-05,\n",
            "        5.9877031e-05, 0.0000000e+00], dtype=float32)\n",
            " array([ 0.0000000e+00,  0.0000000e+00,  0.0000000e+00, ...,\n",
            "         5.5593582e-06, -1.7160054e-06,  0.0000000e+00], dtype=float32)\n",
            " array([ 0.0000000e+00,  0.0000000e+00,  0.0000000e+00, ...,\n",
            "         3.3605713e-06, -1.5348014e-06,  0.0000000e+00], dtype=float32)\n",
            " array([0., 0., 0., ..., 0., 0., 0.], dtype=float32)\n",
            " array([0., 0., 0., ..., 0., 0., 0.], dtype=float32)\n",
            " array([0., 0., 0., ..., 0., 0., 0.], dtype=float32)\n",
            " array([ 0.0000000e+00,  0.0000000e+00,  0.0000000e+00, ...,\n",
            "        -5.3685912e-06,  5.8336482e-05,  0.0000000e+00], dtype=float32)\n",
            " array([0., 0., 0., ..., 0., 0., 0.], dtype=float32)\n",
            " array([0., 0., 0., ..., 0., 0., 0.], dtype=float32)\n",
            " array([0.000000e+00, 0.000000e+00, 0.000000e+00, ..., 3.931576e-06,\n",
            "        9.915284e-06, 0.000000e+00], dtype=float32)\n",
            " array([0., 0., 0., ..., 0., 0., 0.], dtype=float32)\n",
            " array([ 0.00000000e+00,  0.00000000e+00,  0.00000000e+00, ...,\n",
            "        -1.35447735e-05, -3.07683840e-05,  0.00000000e+00], dtype=float32)\n",
            " array([0., 0., 0., ..., 0., 0., 0.], dtype=float32)\n",
            " array([0., 0., 0., ..., 0., 0., 0.], dtype=float32)\n",
            " array([ 0.0000000e+00,  0.0000000e+00,  0.0000000e+00, ...,\n",
            "        -2.8278455e-05, -1.8636689e-05,  0.0000000e+00], dtype=float32)\n",
            " array([0.0000000e+00, 0.0000000e+00, 0.0000000e+00, ..., 1.3808249e-05,\n",
            "        5.4241173e-05, 0.0000000e+00], dtype=float32)\n",
            " array([0.0000000e+00, 0.0000000e+00, 0.0000000e+00, ..., 6.0403585e-05,\n",
            "        2.6804293e-04, 0.0000000e+00], dtype=float32)\n",
            " array([0., 0., 0., ..., 0., 0., 0.], dtype=float32)\n",
            " array([0., 0., 0., ..., 0., 0., 0.], dtype=float32)\n",
            " array([ 0.0000000e+00,  0.0000000e+00,  0.0000000e+00, ...,\n",
            "        -3.8398395e-07,  8.0271593e-07,  0.0000000e+00], dtype=float32)\n",
            " array([ 0.0000000e+00,  0.0000000e+00,  0.0000000e+00, ...,\n",
            "        -2.8122116e-05, -2.9394641e-05,  0.0000000e+00], dtype=float32)\n",
            " array([0., 0., 0., ..., 0., 0., 0.], dtype=float32)\n",
            " array([ 0.0000000e+00,  0.0000000e+00,  0.0000000e+00, ...,\n",
            "        -5.8382238e-06, -1.5658155e-05,  0.0000000e+00], dtype=float32)\n",
            " array([ 0.0000000e+00,  0.0000000e+00,  0.0000000e+00, ...,\n",
            "        -2.5740717e-05,  2.7571452e-06,  0.0000000e+00], dtype=float32)\n",
            " array([0., 0., 0., ..., 0., 0., 0.], dtype=float32)\n",
            " array([ 0.0000000e+00,  0.0000000e+00,  0.0000000e+00, ...,\n",
            "        -1.5220436e-06,  1.2429115e-06,  0.0000000e+00], dtype=float32)\n",
            " array([0., 0., 0., ..., 0., 0., 0.], dtype=float32)\n",
            " array([ 0.0000000e+00,  0.0000000e+00,  0.0000000e+00, ...,\n",
            "        -8.8228968e-05, -1.9779858e-05,  0.0000000e+00], dtype=float32)\n",
            " array([0.0000000e+00, 0.0000000e+00, 0.0000000e+00, ..., 2.3862749e-05,\n",
            "        3.8186423e-05, 0.0000000e+00], dtype=float32)\n",
            " array([0., 0., 0., ..., 0., 0., 0.], dtype=float32)\n",
            " array([0., 0., 0., ..., 0., 0., 0.], dtype=float32)\n",
            " array([ 0.000000e+00,  0.000000e+00,  0.000000e+00, ...,  3.534442e-05,\n",
            "        -9.862927e-07,  0.000000e+00], dtype=float32)\n",
            " array([0., 0., 0., ..., 0., 0., 0.], dtype=float32)\n",
            " array([0., 0., 0., ..., 0., 0., 0.], dtype=float32)\n",
            " array([0., 0., 0., ..., 0., 0., 0.], dtype=float32)\n",
            " array([0.0000000e+00, 0.0000000e+00, 0.0000000e+00, ..., 1.6956570e-05,\n",
            "        1.3520114e-05, 0.0000000e+00], dtype=float32)\n",
            " array([0., 0., 0., ..., 0., 0., 0.], dtype=float32)\n",
            " array([ 0.        ,  0.        ,  0.        , ..., -0.00032581,\n",
            "        -0.00014503,  0.        ], dtype=float32)\n",
            " array([0., 0., 0., ..., 0., 0., 0.], dtype=float32)\n",
            " array([ 0.000000e+00,  0.000000e+00,  0.000000e+00, ...,  9.019478e-05,\n",
            "        -6.829717e-05,  0.000000e+00], dtype=float32)\n",
            " array([ 0.0000000e+00,  0.0000000e+00,  0.0000000e+00, ...,\n",
            "        -1.0304848e-05, -4.3884756e-05,  0.0000000e+00], dtype=float32)\n",
            " array([ 0.0000000e+00,  0.0000000e+00,  0.0000000e+00, ...,\n",
            "         9.2849467e-07, -7.1010874e-07,  0.0000000e+00], dtype=float32)\n",
            " array([0., 0., 0., ..., 0., 0., 0.], dtype=float32)\n",
            " array([ 0.0000000e+00,  0.0000000e+00,  0.0000000e+00, ...,\n",
            "         8.7141962e-06, -3.0873857e-06,  0.0000000e+00], dtype=float32)\n",
            " array([0., 0., 0., ..., 0., 0., 0.], dtype=float32)\n",
            " array([0., 0., 0., ..., 0., 0., 0.], dtype=float32)\n",
            " array([ 0.0000000e+00,  0.0000000e+00,  0.0000000e+00, ...,\n",
            "         1.2547045e-07, -1.1022808e-07,  0.0000000e+00], dtype=float32)\n",
            " array([0., 0., 0., ..., 0., 0., 0.], dtype=float32)\n",
            " array([0.000000e+00, 0.000000e+00, 0.000000e+00, ..., 2.597584e-05,\n",
            "        1.426120e-05, 0.000000e+00], dtype=float32)\n",
            " array([0., 0., 0., ..., 0., 0., 0.], dtype=float32)\n",
            " array([ 0.0000000e+00,  0.0000000e+00,  0.0000000e+00, ...,\n",
            "         2.3416262e-06, -2.6620643e-05,  0.0000000e+00], dtype=float32)\n",
            " array([ 0.0000000e+00,  0.0000000e+00,  0.0000000e+00, ...,\n",
            "         5.0161370e-06, -1.8063924e-05,  0.0000000e+00], dtype=float32)\n",
            " array([ 0.0000000e+00,  0.0000000e+00,  0.0000000e+00, ...,\n",
            "        -3.4834898e-08,  2.0565851e-08,  0.0000000e+00], dtype=float32)\n",
            " array([ 0.0000000e+00,  0.0000000e+00,  0.0000000e+00, ...,\n",
            "        -3.2442770e-06, -1.3638355e-05,  0.0000000e+00], dtype=float32)\n",
            " array([ 0.0000000e+00,  0.0000000e+00,  0.0000000e+00, ...,\n",
            "        -2.5751895e-06,  1.4125986e-06,  0.0000000e+00], dtype=float32)\n",
            " array([ 0.0000000e+00,  0.0000000e+00,  0.0000000e+00, ...,\n",
            "         4.5993285e-05, -2.4608404e-05,  0.0000000e+00], dtype=float32)\n",
            " array([0., 0., 0., ..., 0., 0., 0.], dtype=float32)\n",
            " array([0.        , 0.        , 0.        , ..., 0.00012378, 0.00012563,\n",
            "        0.        ], dtype=float32)\n",
            " array([0., 0., 0., ..., 0., 0., 0.], dtype=float32)\n",
            " array([0., 0., 0., ..., 0., 0., 0.], dtype=float32)\n",
            " array([ 0.0000000e+00,  0.0000000e+00,  0.0000000e+00, ...,\n",
            "         5.4317798e-06, -7.5550070e-06,  0.0000000e+00], dtype=float32)\n",
            " array([ 0.0000000e+00,  0.0000000e+00,  0.0000000e+00, ...,\n",
            "         6.1080265e-09, -1.4119491e-09,  0.0000000e+00], dtype=float32)\n",
            " array([0.0000000e+00, 0.0000000e+00, 0.0000000e+00, ..., 4.6453202e-05,\n",
            "        5.1212188e-05, 0.0000000e+00], dtype=float32)\n",
            " array([ 0.0000000e+00,  0.0000000e+00,  0.0000000e+00, ...,\n",
            "        -3.1445536e-05, -2.2576192e-05,  0.0000000e+00], dtype=float32)\n",
            " array([0., 0., 0., ..., 0., 0., 0.], dtype=float32)\n",
            " array([0.0000000e+00, 0.0000000e+00, 0.0000000e+00, ..., 5.6044632e-07,\n",
            "        2.9711155e-05, 0.0000000e+00], dtype=float32)\n",
            " array([ 0.0000000e+00,  0.0000000e+00,  0.0000000e+00, ...,\n",
            "        -2.8733186e-05, -1.1252851e-05,  0.0000000e+00], dtype=float32)\n",
            " array([ 0.0000000e+00,  0.0000000e+00,  0.0000000e+00, ...,\n",
            "        -9.0242099e-11,  4.7864115e-11,  0.0000000e+00], dtype=float32)\n",
            " array([ 0.0000000e+00,  0.0000000e+00,  0.0000000e+00, ...,\n",
            "        -4.0406059e-05,  3.0561587e-05,  0.0000000e+00], dtype=float32)\n",
            " array([ 0.0000000e+00,  0.0000000e+00,  0.0000000e+00, ...,\n",
            "         1.2331131e-07, -1.3049730e-07,  0.0000000e+00], dtype=float32)\n",
            " array([0., 0., 0., ..., 0., 0., 0.], dtype=float32)\n",
            " array([0., 0., 0., ..., 0., 0., 0.], dtype=float32)\n",
            " array([ 0.0000000e+00,  0.0000000e+00,  0.0000000e+00, ...,\n",
            "        -1.7550182e-06,  1.3459860e-06,  0.0000000e+00], dtype=float32)\n",
            " array([0., 0., 0., ..., 0., 0., 0.], dtype=float32)\n",
            " array([0., 0., 0., ..., 0., 0., 0.], dtype=float32)\n",
            " array([0., 0., 0., ..., 0., 0., 0.], dtype=float32)\n",
            " array([0., 0., 0., ..., 0., 0., 0.], dtype=float32)\n",
            " array([0.0000000e+00, 0.0000000e+00, 0.0000000e+00, ..., 1.3059257e-04,\n",
            "        6.0665316e-05, 0.0000000e+00], dtype=float32)\n",
            " array([0.        , 0.        , 0.        , ..., 0.00058808, 0.00061207,\n",
            "        0.        ], dtype=float32)\n",
            " array([0., 0., 0., ..., 0., 0., 0.], dtype=float32)\n",
            " array([0., 0., 0., ..., 0., 0., 0.], dtype=float32)\n",
            " array([ 0.0000000e+00,  0.0000000e+00,  0.0000000e+00, ...,\n",
            "        -1.2789657e-05,  1.4011216e-07,  0.0000000e+00], dtype=float32)\n",
            " array([ 0.0000000e+00,  0.0000000e+00,  0.0000000e+00, ...,\n",
            "         3.7772043e-07, -2.9471246e-07,  0.0000000e+00], dtype=float32)\n",
            " array([0., 0., 0., ..., 0., 0., 0.], dtype=float32)\n",
            " array([ 0.0000000e+00,  0.0000000e+00,  0.0000000e+00, ...,\n",
            "        -7.0822360e-05, -5.9379196e-05,  0.0000000e+00], dtype=float32)\n",
            " array([0.0000000e+00, 0.0000000e+00, 0.0000000e+00, ..., 5.0253220e-05,\n",
            "        6.7008135e-05, 0.0000000e+00], dtype=float32)\n",
            " array([0., 0., 0., ..., 0., 0., 0.], dtype=float32)\n",
            " array([ 0.0000000e+00,  0.0000000e+00,  0.0000000e+00, ...,\n",
            "        -1.6016224e-05, -2.3766604e-05,  0.0000000e+00], dtype=float32)\n",
            " array([ 0.000000e+00,  0.000000e+00,  0.000000e+00, ...,  3.712736e-05,\n",
            "        -4.937070e-06,  0.000000e+00], dtype=float32)\n",
            " array([ 0.        ,  0.        ,  0.        , ..., -0.00015038,\n",
            "         0.00061781,  0.        ], dtype=float32)\n",
            " array([0., 0., 0., ..., 0., 0., 0.], dtype=float32)\n",
            " array([0., 0., 0., ..., 0., 0., 0.], dtype=float32)\n",
            " array([ 0.000000e+00,  0.000000e+00,  0.000000e+00, ..., -3.644469e-05,\n",
            "        -8.284368e-07,  0.000000e+00], dtype=float32)\n",
            " array([ 0.00000000e+00,  0.00000000e+00,  0.00000000e+00, ...,\n",
            "         5.48219468e-05, -1.17231764e-04, -3.07195936e-04], dtype=float32)\n",
            " array([0.0000000e+00, 0.0000000e+00, 0.0000000e+00, ..., 2.3284116e-05,\n",
            "        6.6803209e-06, 0.0000000e+00], dtype=float32)\n",
            " array([0., 0., 0., ..., 0., 0., 0.], dtype=float32)\n",
            " array([0., 0., 0., ..., 0., 0., 0.], dtype=float32)\n",
            " array([0., 0., 0., ..., 0., 0., 0.], dtype=float32)\n",
            " array([ 0.0000000e+00,  0.0000000e+00,  0.0000000e+00, ...,\n",
            "        -1.1606479e-05, -1.5941427e-05,  0.0000000e+00], dtype=float32)\n",
            " array([0., 0., 0., ..., 0., 0., 0.], dtype=float32)\n",
            " array([0., 0., 0., ..., 0., 0., 0.], dtype=float32)\n",
            " array([0., 0., 0., ..., 0., 0., 0.], dtype=float32)\n",
            " array([0., 0., 0., ..., 0., 0., 0.], dtype=float32)\n",
            " array([ 0.        ,  0.        ,  0.        , ..., -0.00026446,\n",
            "        -0.00028457, -0.00014616], dtype=float32)\n",
            " array([0., 0., 0., ..., 0., 0., 0.], dtype=float32)\n",
            " array([ 0.000000e+00,  0.000000e+00,  0.000000e+00, ..., -1.963067e-05,\n",
            "         6.537628e-06, -9.851201e-06], dtype=float32)\n",
            " array([0., 0., 0., ..., 0., 0., 0.], dtype=float32)\n",
            " array([0., 0., 0., ..., 0., 0., 0.], dtype=float32)\n",
            " array([0., 0., 0., ..., 0., 0., 0.], dtype=float32)\n",
            " array([0., 0., 0., ..., 0., 0., 0.], dtype=float32)\n",
            " array([0., 0., 0., ..., 0., 0., 0.], dtype=float32)\n",
            " array([0., 0., 0., ..., 0., 0., 0.], dtype=float32)\n",
            " array([ 0.0000000e+00,  0.0000000e+00,  0.0000000e+00, ...,\n",
            "        -1.0638221e-07,  8.8754071e-08,  0.0000000e+00], dtype=float32)\n",
            " array([0.        , 0.        , 0.        , ..., 0.0021421 , 0.00052381,\n",
            "        0.        ], dtype=float32)\n",
            " array([0., 0., 0., ..., 0., 0., 0.], dtype=float32)\n",
            " array([0., 0., 0., ..., 0., 0., 0.], dtype=float32)\n",
            " array([0., 0., 0., ..., 0., 0., 0.], dtype=float32)\n",
            " array([ 0.0000000e+00,  0.0000000e+00,  0.0000000e+00, ...,\n",
            "         1.3129382e-05, -5.8327146e-07, -1.4375648e-05], dtype=float32)\n",
            " array([0., 0., 0., ..., 0., 0., 0.], dtype=float32)\n",
            " array([ 0.        ,  0.        ,  0.        , ..., -0.00012812,\n",
            "        -0.00029048,  0.        ], dtype=float32)\n",
            " array([0.0000000e+00, 0.0000000e+00, 0.0000000e+00, ..., 1.1651505e-04,\n",
            "        6.7668276e-05, 0.0000000e+00], dtype=float32)\n",
            " array([ 0.0000000e+00,  0.0000000e+00,  0.0000000e+00, ...,\n",
            "        -1.3052010e-04,  2.9109078e-05,  0.0000000e+00], dtype=float32)\n",
            " array([0., 0., 0., ..., 0., 0., 0.], dtype=float32)\n",
            " array([0.0000000e+00, 0.0000000e+00, 0.0000000e+00, ..., 4.6710025e-05,\n",
            "        4.3674772e-05, 0.0000000e+00], dtype=float32)\n",
            " array([ 0.0000000e+00,  0.0000000e+00,  0.0000000e+00, ...,\n",
            "         9.4131785e-08, -6.7927417e-08,  0.0000000e+00], dtype=float32)\n",
            " array([ 0.0000000e+00,  0.0000000e+00,  0.0000000e+00, ...,\n",
            "        -2.4669677e-07,  1.8089368e-07,  0.0000000e+00], dtype=float32)\n",
            " array([ 0.0000000e+00,  0.0000000e+00,  0.0000000e+00, ...,\n",
            "        -1.9398540e-05,  2.4370465e-06,  0.0000000e+00], dtype=float32)\n",
            " array([0., 0., 0., ..., 0., 0., 0.], dtype=float32)\n",
            " array([0., 0., 0., ..., 0., 0., 0.], dtype=float32)\n",
            " array([0.        , 0.        , 0.        , ..., 0.00038362, 0.00014121,\n",
            "        0.        ], dtype=float32)\n",
            " array([0., 0., 0., ..., 0., 0., 0.], dtype=float32)\n",
            " array([0., 0., 0., ..., 0., 0., 0.], dtype=float32)\n",
            " array([ 0.0000000e+00,  0.0000000e+00,  0.0000000e+00, ...,\n",
            "        -5.8471255e-08,  4.5462670e-08,  0.0000000e+00], dtype=float32)\n",
            " array([0., 0., 0., ..., 0., 0., 0.], dtype=float32)\n",
            " array([0., 0., 0., ..., 0., 0., 0.], dtype=float32)\n",
            " array([ 0.0000000e+00,  0.0000000e+00,  0.0000000e+00, ...,\n",
            "        -8.5759802e-06, -2.9852717e-05,  0.0000000e+00], dtype=float32)\n",
            " array([ 0.        ,  0.        ,  0.        , ..., -0.00025345,\n",
            "        -0.00042314,  0.        ], dtype=float32)               ]\n"
          ]
        }
      ]
    },
    {
      "cell_type": "markdown",
      "metadata": {
        "id": "OaLr_OKWaKBL"
      },
      "source": [
        "Use the extract_features() function"
      ]
    },
    {
      "cell_type": "code",
      "source": [],
      "metadata": {
        "id": "wEeSoPox9Vn2"
      },
      "execution_count": null,
      "outputs": []
    },
    {
      "cell_type": "code",
      "execution_count": null,
      "metadata": {
        "id": "P65wdt-WaKBM",
        "colab": {
          "base_uri": "https://localhost:8080/"
        },
        "outputId": "22614624-76e5-4331-ff42-42c3d4d5e96e"
      },
      "outputs": [
        {
          "output_type": "stream",
          "name": "stderr",
          "text": [
            "\r  0%|          | 0/284 [00:00<?, ?it/s]WARNING:root:frame length (551) is greater than FFT size (512), frame will be truncated. Increase NFFT to avoid.\n",
            "WARNING:root:frame length (551) is greater than FFT size (512), frame will be truncated. Increase NFFT to avoid.\n",
            "WARNING:root:frame length (551) is greater than FFT size (512), frame will be truncated. Increase NFFT to avoid.\n",
            "WARNING:root:frame length (551) is greater than FFT size (512), frame will be truncated. Increase NFFT to avoid.\n",
            "  1%|▏         | 4/284 [00:00<00:07, 35.46it/s]WARNING:root:frame length (551) is greater than FFT size (512), frame will be truncated. Increase NFFT to avoid.\n",
            "WARNING:root:frame length (551) is greater than FFT size (512), frame will be truncated. Increase NFFT to avoid.\n",
            "WARNING:root:frame length (551) is greater than FFT size (512), frame will be truncated. Increase NFFT to avoid.\n",
            "WARNING:root:frame length (551) is greater than FFT size (512), frame will be truncated. Increase NFFT to avoid.\n",
            "  3%|▎         | 8/284 [00:00<00:08, 31.16it/s]WARNING:root:frame length (551) is greater than FFT size (512), frame will be truncated. Increase NFFT to avoid.\n",
            "WARNING:root:frame length (551) is greater than FFT size (512), frame will be truncated. Increase NFFT to avoid.\n",
            "WARNING:root:frame length (551) is greater than FFT size (512), frame will be truncated. Increase NFFT to avoid.\n",
            "WARNING:root:frame length (551) is greater than FFT size (512), frame will be truncated. Increase NFFT to avoid.\n",
            "WARNING:root:frame length (551) is greater than FFT size (512), frame will be truncated. Increase NFFT to avoid.\n",
            "WARNING:root:frame length (551) is greater than FFT size (512), frame will be truncated. Increase NFFT to avoid.\n",
            "WARNING:root:frame length (551) is greater than FFT size (512), frame will be truncated. Increase NFFT to avoid.\n",
            "  5%|▌         | 15/284 [00:00<00:06, 44.23it/s]WARNING:root:frame length (551) is greater than FFT size (512), frame will be truncated. Increase NFFT to avoid.\n",
            "WARNING:root:frame length (551) is greater than FFT size (512), frame will be truncated. Increase NFFT to avoid.\n",
            "WARNING:root:frame length (551) is greater than FFT size (512), frame will be truncated. Increase NFFT to avoid.\n",
            "WARNING:root:frame length (551) is greater than FFT size (512), frame will be truncated. Increase NFFT to avoid.\n",
            "WARNING:root:frame length (551) is greater than FFT size (512), frame will be truncated. Increase NFFT to avoid.\n",
            "WARNING:root:frame length (551) is greater than FFT size (512), frame will be truncated. Increase NFFT to avoid.\n",
            "WARNING:root:frame length (551) is greater than FFT size (512), frame will be truncated. Increase NFFT to avoid.\n",
            "  8%|▊         | 22/284 [00:00<00:05, 52.05it/s]WARNING:root:frame length (551) is greater than FFT size (512), frame will be truncated. Increase NFFT to avoid.\n",
            "WARNING:root:frame length (551) is greater than FFT size (512), frame will be truncated. Increase NFFT to avoid.\n",
            "WARNING:root:frame length (551) is greater than FFT size (512), frame will be truncated. Increase NFFT to avoid.\n",
            "WARNING:root:frame length (551) is greater than FFT size (512), frame will be truncated. Increase NFFT to avoid.\n",
            "WARNING:root:frame length (551) is greater than FFT size (512), frame will be truncated. Increase NFFT to avoid.\n",
            "WARNING:root:frame length (551) is greater than FFT size (512), frame will be truncated. Increase NFFT to avoid.\n",
            "WARNING:root:frame length (551) is greater than FFT size (512), frame will be truncated. Increase NFFT to avoid.\n",
            " 10%|█         | 29/284 [00:00<00:04, 56.19it/s]WARNING:root:frame length (551) is greater than FFT size (512), frame will be truncated. Increase NFFT to avoid.\n",
            "WARNING:root:frame length (551) is greater than FFT size (512), frame will be truncated. Increase NFFT to avoid.\n",
            "WARNING:root:frame length (551) is greater than FFT size (512), frame will be truncated. Increase NFFT to avoid.\n",
            "WARNING:root:frame length (551) is greater than FFT size (512), frame will be truncated. Increase NFFT to avoid.\n",
            "WARNING:root:frame length (551) is greater than FFT size (512), frame will be truncated. Increase NFFT to avoid.\n",
            "WARNING:root:frame length (551) is greater than FFT size (512), frame will be truncated. Increase NFFT to avoid.\n",
            "WARNING:root:frame length (551) is greater than FFT size (512), frame will be truncated. Increase NFFT to avoid.\n",
            " 13%|█▎        | 36/284 [00:00<00:04, 58.64it/s]WARNING:root:frame length (551) is greater than FFT size (512), frame will be truncated. Increase NFFT to avoid.\n",
            "WARNING:root:frame length (551) is greater than FFT size (512), frame will be truncated. Increase NFFT to avoid.\n",
            "WARNING:root:frame length (551) is greater than FFT size (512), frame will be truncated. Increase NFFT to avoid.\n",
            "WARNING:root:frame length (551) is greater than FFT size (512), frame will be truncated. Increase NFFT to avoid.\n",
            "WARNING:root:frame length (551) is greater than FFT size (512), frame will be truncated. Increase NFFT to avoid.\n",
            "WARNING:root:frame length (551) is greater than FFT size (512), frame will be truncated. Increase NFFT to avoid.\n",
            "WARNING:root:frame length (551) is greater than FFT size (512), frame will be truncated. Increase NFFT to avoid.\n",
            " 15%|█▌        | 43/284 [00:00<00:03, 61.57it/s]WARNING:root:frame length (551) is greater than FFT size (512), frame will be truncated. Increase NFFT to avoid.\n",
            "WARNING:root:frame length (551) is greater than FFT size (512), frame will be truncated. Increase NFFT to avoid.\n",
            "WARNING:root:frame length (551) is greater than FFT size (512), frame will be truncated. Increase NFFT to avoid.\n",
            "WARNING:root:frame length (551) is greater than FFT size (512), frame will be truncated. Increase NFFT to avoid.\n",
            "WARNING:root:frame length (551) is greater than FFT size (512), frame will be truncated. Increase NFFT to avoid.\n",
            "WARNING:root:frame length (551) is greater than FFT size (512), frame will be truncated. Increase NFFT to avoid.\n",
            "WARNING:root:frame length (551) is greater than FFT size (512), frame will be truncated. Increase NFFT to avoid.\n",
            " 18%|█▊        | 50/284 [00:00<00:03, 61.60it/s]WARNING:root:frame length (551) is greater than FFT size (512), frame will be truncated. Increase NFFT to avoid.\n",
            "WARNING:root:frame length (551) is greater than FFT size (512), frame will be truncated. Increase NFFT to avoid.\n",
            "WARNING:root:frame length (551) is greater than FFT size (512), frame will be truncated. Increase NFFT to avoid.\n",
            "WARNING:root:frame length (551) is greater than FFT size (512), frame will be truncated. Increase NFFT to avoid.\n",
            "WARNING:root:frame length (551) is greater than FFT size (512), frame will be truncated. Increase NFFT to avoid.\n",
            "WARNING:root:frame length (551) is greater than FFT size (512), frame will be truncated. Increase NFFT to avoid.\n",
            "WARNING:root:frame length (551) is greater than FFT size (512), frame will be truncated. Increase NFFT to avoid.\n",
            "WARNING:root:frame length (551) is greater than FFT size (512), frame will be truncated. Increase NFFT to avoid.\n",
            " 20%|██        | 58/284 [00:01<00:03, 63.59it/s]WARNING:root:frame length (551) is greater than FFT size (512), frame will be truncated. Increase NFFT to avoid.\n",
            "WARNING:root:frame length (551) is greater than FFT size (512), frame will be truncated. Increase NFFT to avoid.\n",
            "WARNING:root:frame length (551) is greater than FFT size (512), frame will be truncated. Increase NFFT to avoid.\n",
            "WARNING:root:frame length (551) is greater than FFT size (512), frame will be truncated. Increase NFFT to avoid.\n",
            "WARNING:root:frame length (551) is greater than FFT size (512), frame will be truncated. Increase NFFT to avoid.\n",
            "WARNING:root:frame length (551) is greater than FFT size (512), frame will be truncated. Increase NFFT to avoid.\n",
            "WARNING:root:frame length (551) is greater than FFT size (512), frame will be truncated. Increase NFFT to avoid.\n",
            " 23%|██▎       | 65/284 [00:01<00:03, 59.96it/s]WARNING:root:frame length (551) is greater than FFT size (512), frame will be truncated. Increase NFFT to avoid.\n",
            "WARNING:root:frame length (551) is greater than FFT size (512), frame will be truncated. Increase NFFT to avoid.\n",
            "WARNING:root:frame length (551) is greater than FFT size (512), frame will be truncated. Increase NFFT to avoid.\n",
            "WARNING:root:frame length (551) is greater than FFT size (512), frame will be truncated. Increase NFFT to avoid.\n",
            "WARNING:root:frame length (551) is greater than FFT size (512), frame will be truncated. Increase NFFT to avoid.\n",
            "WARNING:root:frame length (551) is greater than FFT size (512), frame will be truncated. Increase NFFT to avoid.\n",
            "WARNING:root:frame length (551) is greater than FFT size (512), frame will be truncated. Increase NFFT to avoid.\n",
            " 25%|██▌       | 72/284 [00:01<00:03, 58.15it/s]WARNING:root:frame length (551) is greater than FFT size (512), frame will be truncated. Increase NFFT to avoid.\n",
            "WARNING:root:frame length (551) is greater than FFT size (512), frame will be truncated. Increase NFFT to avoid.\n",
            "WARNING:root:frame length (551) is greater than FFT size (512), frame will be truncated. Increase NFFT to avoid.\n",
            "WARNING:root:frame length (551) is greater than FFT size (512), frame will be truncated. Increase NFFT to avoid.\n",
            "WARNING:root:frame length (551) is greater than FFT size (512), frame will be truncated. Increase NFFT to avoid.\n",
            "WARNING:root:frame length (551) is greater than FFT size (512), frame will be truncated. Increase NFFT to avoid.\n",
            " 27%|██▋       | 78/284 [00:01<00:03, 54.26it/s]WARNING:root:frame length (551) is greater than FFT size (512), frame will be truncated. Increase NFFT to avoid.\n",
            "WARNING:root:frame length (551) is greater than FFT size (512), frame will be truncated. Increase NFFT to avoid.\n",
            "WARNING:root:frame length (551) is greater than FFT size (512), frame will be truncated. Increase NFFT to avoid.\n",
            "WARNING:root:frame length (551) is greater than FFT size (512), frame will be truncated. Increase NFFT to avoid.\n",
            "WARNING:root:frame length (551) is greater than FFT size (512), frame will be truncated. Increase NFFT to avoid.\n",
            "WARNING:root:frame length (551) is greater than FFT size (512), frame will be truncated. Increase NFFT to avoid.\n",
            " 30%|██▉       | 84/284 [00:01<00:03, 50.59it/s]WARNING:root:frame length (551) is greater than FFT size (512), frame will be truncated. Increase NFFT to avoid.\n",
            "WARNING:root:frame length (551) is greater than FFT size (512), frame will be truncated. Increase NFFT to avoid.\n",
            "WARNING:root:frame length (551) is greater than FFT size (512), frame will be truncated. Increase NFFT to avoid.\n",
            "WARNING:root:frame length (551) is greater than FFT size (512), frame will be truncated. Increase NFFT to avoid.\n",
            "WARNING:root:frame length (551) is greater than FFT size (512), frame will be truncated. Increase NFFT to avoid.\n",
            "WARNING:root:frame length (551) is greater than FFT size (512), frame will be truncated. Increase NFFT to avoid.\n",
            "WARNING:root:frame length (551) is greater than FFT size (512), frame will be truncated. Increase NFFT to avoid.\n",
            " 32%|███▏      | 91/284 [00:01<00:03, 55.19it/s]WARNING:root:frame length (551) is greater than FFT size (512), frame will be truncated. Increase NFFT to avoid.\n",
            "WARNING:root:frame length (551) is greater than FFT size (512), frame will be truncated. Increase NFFT to avoid.\n",
            "WARNING:root:frame length (551) is greater than FFT size (512), frame will be truncated. Increase NFFT to avoid.\n",
            "WARNING:root:frame length (551) is greater than FFT size (512), frame will be truncated. Increase NFFT to avoid.\n",
            "WARNING:root:frame length (551) is greater than FFT size (512), frame will be truncated. Increase NFFT to avoid.\n",
            "WARNING:root:frame length (551) is greater than FFT size (512), frame will be truncated. Increase NFFT to avoid.\n",
            " 34%|███▍      | 97/284 [00:01<00:03, 52.67it/s]WARNING:root:frame length (551) is greater than FFT size (512), frame will be truncated. Increase NFFT to avoid.\n",
            "WARNING:root:frame length (551) is greater than FFT size (512), frame will be truncated. Increase NFFT to avoid.\n",
            "WARNING:root:frame length (551) is greater than FFT size (512), frame will be truncated. Increase NFFT to avoid.\n",
            "WARNING:root:frame length (551) is greater than FFT size (512), frame will be truncated. Increase NFFT to avoid.\n",
            "WARNING:root:frame length (551) is greater than FFT size (512), frame will be truncated. Increase NFFT to avoid.\n",
            "WARNING:root:frame length (551) is greater than FFT size (512), frame will be truncated. Increase NFFT to avoid.\n",
            " 36%|███▋      | 103/284 [00:01<00:03, 49.06it/s]WARNING:root:frame length (551) is greater than FFT size (512), frame will be truncated. Increase NFFT to avoid.\n",
            "WARNING:root:frame length (551) is greater than FFT size (512), frame will be truncated. Increase NFFT to avoid.\n",
            "WARNING:root:frame length (551) is greater than FFT size (512), frame will be truncated. Increase NFFT to avoid.\n",
            "WARNING:root:frame length (551) is greater than FFT size (512), frame will be truncated. Increase NFFT to avoid.\n",
            "WARNING:root:frame length (551) is greater than FFT size (512), frame will be truncated. Increase NFFT to avoid.\n",
            "WARNING:root:frame length (551) is greater than FFT size (512), frame will be truncated. Increase NFFT to avoid.\n",
            " 38%|███▊      | 109/284 [00:02<00:03, 48.81it/s]WARNING:root:frame length (551) is greater than FFT size (512), frame will be truncated. Increase NFFT to avoid.\n",
            "WARNING:root:frame length (551) is greater than FFT size (512), frame will be truncated. Increase NFFT to avoid.\n",
            "WARNING:root:frame length (551) is greater than FFT size (512), frame will be truncated. Increase NFFT to avoid.\n",
            "WARNING:root:frame length (551) is greater than FFT size (512), frame will be truncated. Increase NFFT to avoid.\n",
            "WARNING:root:frame length (551) is greater than FFT size (512), frame will be truncated. Increase NFFT to avoid.\n",
            " 40%|████      | 114/284 [00:02<00:03, 48.58it/s]WARNING:root:frame length (551) is greater than FFT size (512), frame will be truncated. Increase NFFT to avoid.\n",
            "WARNING:root:frame length (551) is greater than FFT size (512), frame will be truncated. Increase NFFT to avoid.\n",
            "WARNING:root:frame length (551) is greater than FFT size (512), frame will be truncated. Increase NFFT to avoid.\n",
            "WARNING:root:frame length (551) is greater than FFT size (512), frame will be truncated. Increase NFFT to avoid.\n",
            "WARNING:root:frame length (551) is greater than FFT size (512), frame will be truncated. Increase NFFT to avoid.\n",
            " 42%|████▏     | 119/284 [00:02<00:03, 44.74it/s]WARNING:root:frame length (551) is greater than FFT size (512), frame will be truncated. Increase NFFT to avoid.\n",
            "WARNING:root:frame length (551) is greater than FFT size (512), frame will be truncated. Increase NFFT to avoid.\n",
            "WARNING:root:frame length (551) is greater than FFT size (512), frame will be truncated. Increase NFFT to avoid.\n",
            "WARNING:root:frame length (551) is greater than FFT size (512), frame will be truncated. Increase NFFT to avoid.\n",
            "WARNING:root:frame length (551) is greater than FFT size (512), frame will be truncated. Increase NFFT to avoid.\n",
            "WARNING:root:frame length (551) is greater than FFT size (512), frame will be truncated. Increase NFFT to avoid.\n",
            " 44%|████▍     | 125/284 [00:02<00:03, 46.22it/s]WARNING:root:frame length (551) is greater than FFT size (512), frame will be truncated. Increase NFFT to avoid.\n",
            "WARNING:root:frame length (551) is greater than FFT size (512), frame will be truncated. Increase NFFT to avoid.\n",
            "WARNING:root:frame length (551) is greater than FFT size (512), frame will be truncated. Increase NFFT to avoid.\n",
            "WARNING:root:frame length (551) is greater than FFT size (512), frame will be truncated. Increase NFFT to avoid.\n",
            "WARNING:root:frame length (551) is greater than FFT size (512), frame will be truncated. Increase NFFT to avoid.\n",
            " 46%|████▌     | 130/284 [00:02<00:03, 46.46it/s]WARNING:root:frame length (551) is greater than FFT size (512), frame will be truncated. Increase NFFT to avoid.\n",
            "WARNING:root:frame length (551) is greater than FFT size (512), frame will be truncated. Increase NFFT to avoid.\n",
            "WARNING:root:frame length (551) is greater than FFT size (512), frame will be truncated. Increase NFFT to avoid.\n",
            "WARNING:root:frame length (551) is greater than FFT size (512), frame will be truncated. Increase NFFT to avoid.\n",
            "WARNING:root:frame length (551) is greater than FFT size (512), frame will be truncated. Increase NFFT to avoid.\n",
            " 48%|████▊     | 135/284 [00:02<00:03, 43.21it/s]WARNING:root:frame length (551) is greater than FFT size (512), frame will be truncated. Increase NFFT to avoid.\n",
            "WARNING:root:frame length (551) is greater than FFT size (512), frame will be truncated. Increase NFFT to avoid.\n",
            "WARNING:root:frame length (551) is greater than FFT size (512), frame will be truncated. Increase NFFT to avoid.\n",
            "WARNING:root:frame length (551) is greater than FFT size (512), frame will be truncated. Increase NFFT to avoid.\n",
            "WARNING:root:frame length (551) is greater than FFT size (512), frame will be truncated. Increase NFFT to avoid.\n",
            " 49%|████▉     | 140/284 [00:02<00:03, 42.59it/s]WARNING:root:frame length (551) is greater than FFT size (512), frame will be truncated. Increase NFFT to avoid.\n",
            "WARNING:root:frame length (551) is greater than FFT size (512), frame will be truncated. Increase NFFT to avoid.\n",
            "WARNING:root:frame length (551) is greater than FFT size (512), frame will be truncated. Increase NFFT to avoid.\n",
            "WARNING:root:frame length (551) is greater than FFT size (512), frame will be truncated. Increase NFFT to avoid.\n",
            "WARNING:root:frame length (551) is greater than FFT size (512), frame will be truncated. Increase NFFT to avoid.\n",
            " 51%|█████     | 145/284 [00:02<00:03, 41.74it/s]WARNING:root:frame length (551) is greater than FFT size (512), frame will be truncated. Increase NFFT to avoid.\n",
            "WARNING:root:frame length (551) is greater than FFT size (512), frame will be truncated. Increase NFFT to avoid.\n",
            "WARNING:root:frame length (551) is greater than FFT size (512), frame will be truncated. Increase NFFT to avoid.\n",
            "WARNING:root:frame length (551) is greater than FFT size (512), frame will be truncated. Increase NFFT to avoid.\n",
            "WARNING:root:frame length (551) is greater than FFT size (512), frame will be truncated. Increase NFFT to avoid.\n",
            " 53%|█████▎    | 150/284 [00:03<00:03, 43.17it/s]WARNING:root:frame length (551) is greater than FFT size (512), frame will be truncated. Increase NFFT to avoid.\n",
            "WARNING:root:frame length (551) is greater than FFT size (512), frame will be truncated. Increase NFFT to avoid.\n",
            "WARNING:root:frame length (551) is greater than FFT size (512), frame will be truncated. Increase NFFT to avoid.\n",
            "WARNING:root:frame length (551) is greater than FFT size (512), frame will be truncated. Increase NFFT to avoid.\n",
            "WARNING:root:frame length (551) is greater than FFT size (512), frame will be truncated. Increase NFFT to avoid.\n",
            " 55%|█████▍    | 155/284 [00:03<00:03, 42.07it/s]WARNING:root:frame length (551) is greater than FFT size (512), frame will be truncated. Increase NFFT to avoid.\n",
            "WARNING:root:frame length (551) is greater than FFT size (512), frame will be truncated. Increase NFFT to avoid.\n",
            "WARNING:root:frame length (551) is greater than FFT size (512), frame will be truncated. Increase NFFT to avoid.\n",
            "WARNING:root:frame length (551) is greater than FFT size (512), frame will be truncated. Increase NFFT to avoid.\n",
            "WARNING:root:frame length (551) is greater than FFT size (512), frame will be truncated. Increase NFFT to avoid.\n",
            " 56%|█████▋    | 160/284 [00:03<00:02, 41.79it/s]WARNING:root:frame length (551) is greater than FFT size (512), frame will be truncated. Increase NFFT to avoid.\n",
            "WARNING:root:frame length (551) is greater than FFT size (512), frame will be truncated. Increase NFFT to avoid.\n",
            "WARNING:root:frame length (551) is greater than FFT size (512), frame will be truncated. Increase NFFT to avoid.\n",
            "WARNING:root:frame length (551) is greater than FFT size (512), frame will be truncated. Increase NFFT to avoid.\n",
            "WARNING:root:frame length (551) is greater than FFT size (512), frame will be truncated. Increase NFFT to avoid.\n",
            " 58%|█████▊    | 165/284 [00:03<00:02, 41.31it/s]WARNING:root:frame length (551) is greater than FFT size (512), frame will be truncated. Increase NFFT to avoid.\n",
            "WARNING:root:frame length (551) is greater than FFT size (512), frame will be truncated. Increase NFFT to avoid.\n",
            "WARNING:root:frame length (551) is greater than FFT size (512), frame will be truncated. Increase NFFT to avoid.\n",
            "WARNING:root:frame length (551) is greater than FFT size (512), frame will be truncated. Increase NFFT to avoid.\n",
            "WARNING:root:frame length (551) is greater than FFT size (512), frame will be truncated. Increase NFFT to avoid.\n",
            " 60%|█████▉    | 170/284 [00:03<00:02, 42.84it/s]WARNING:root:frame length (551) is greater than FFT size (512), frame will be truncated. Increase NFFT to avoid.\n",
            "WARNING:root:frame length (551) is greater than FFT size (512), frame will be truncated. Increase NFFT to avoid.\n",
            "WARNING:root:frame length (551) is greater than FFT size (512), frame will be truncated. Increase NFFT to avoid.\n",
            "WARNING:root:frame length (551) is greater than FFT size (512), frame will be truncated. Increase NFFT to avoid.\n",
            "WARNING:root:frame length (551) is greater than FFT size (512), frame will be truncated. Increase NFFT to avoid.\n",
            "WARNING:root:frame length (551) is greater than FFT size (512), frame will be truncated. Increase NFFT to avoid.\n",
            " 62%|██████▏   | 176/284 [00:03<00:02, 46.32it/s]WARNING:root:frame length (551) is greater than FFT size (512), frame will be truncated. Increase NFFT to avoid.\n",
            "WARNING:root:frame length (551) is greater than FFT size (512), frame will be truncated. Increase NFFT to avoid.\n",
            "WARNING:root:frame length (551) is greater than FFT size (512), frame will be truncated. Increase NFFT to avoid.\n",
            "WARNING:root:frame length (551) is greater than FFT size (512), frame will be truncated. Increase NFFT to avoid.\n",
            "WARNING:root:frame length (551) is greater than FFT size (512), frame will be truncated. Increase NFFT to avoid.\n",
            "WARNING:root:frame length (551) is greater than FFT size (512), frame will be truncated. Increase NFFT to avoid.\n",
            "WARNING:root:frame length (551) is greater than FFT size (512), frame will be truncated. Increase NFFT to avoid.\n",
            "WARNING:root:frame length (551) is greater than FFT size (512), frame will be truncated. Increase NFFT to avoid.\n",
            " 65%|██████▍   | 184/284 [00:03<00:01, 50.48it/s]WARNING:root:frame length (551) is greater than FFT size (512), frame will be truncated. Increase NFFT to avoid.\n",
            "WARNING:root:frame length (551) is greater than FFT size (512), frame will be truncated. Increase NFFT to avoid.\n",
            "WARNING:root:frame length (551) is greater than FFT size (512), frame will be truncated. Increase NFFT to avoid.\n",
            "WARNING:root:frame length (551) is greater than FFT size (512), frame will be truncated. Increase NFFT to avoid.\n",
            "WARNING:root:frame length (551) is greater than FFT size (512), frame will be truncated. Increase NFFT to avoid.\n",
            "WARNING:root:frame length (551) is greater than FFT size (512), frame will be truncated. Increase NFFT to avoid.\n",
            " 67%|██████▋   | 190/284 [00:03<00:01, 51.39it/s]WARNING:root:frame length (551) is greater than FFT size (512), frame will be truncated. Increase NFFT to avoid.\n",
            "WARNING:root:frame length (551) is greater than FFT size (512), frame will be truncated. Increase NFFT to avoid.\n",
            "WARNING:root:frame length (551) is greater than FFT size (512), frame will be truncated. Increase NFFT to avoid.\n",
            "WARNING:root:frame length (551) is greater than FFT size (512), frame will be truncated. Increase NFFT to avoid.\n",
            "WARNING:root:frame length (551) is greater than FFT size (512), frame will be truncated. Increase NFFT to avoid.\n",
            "WARNING:root:frame length (551) is greater than FFT size (512), frame will be truncated. Increase NFFT to avoid.\n",
            " 69%|██████▉   | 196/284 [00:03<00:01, 51.33it/s]WARNING:root:frame length (551) is greater than FFT size (512), frame will be truncated. Increase NFFT to avoid.\n",
            "WARNING:root:frame length (551) is greater than FFT size (512), frame will be truncated. Increase NFFT to avoid.\n",
            "WARNING:root:frame length (551) is greater than FFT size (512), frame will be truncated. Increase NFFT to avoid.\n",
            "WARNING:root:frame length (551) is greater than FFT size (512), frame will be truncated. Increase NFFT to avoid.\n",
            "WARNING:root:frame length (551) is greater than FFT size (512), frame will be truncated. Increase NFFT to avoid.\n",
            "WARNING:root:frame length (551) is greater than FFT size (512), frame will be truncated. Increase NFFT to avoid.\n",
            " 71%|███████   | 202/284 [00:04<00:01, 51.00it/s]WARNING:root:frame length (551) is greater than FFT size (512), frame will be truncated. Increase NFFT to avoid.\n",
            "WARNING:root:frame length (551) is greater than FFT size (512), frame will be truncated. Increase NFFT to avoid.\n",
            "WARNING:root:frame length (551) is greater than FFT size (512), frame will be truncated. Increase NFFT to avoid.\n",
            "WARNING:root:frame length (551) is greater than FFT size (512), frame will be truncated. Increase NFFT to avoid.\n",
            "WARNING:root:frame length (551) is greater than FFT size (512), frame will be truncated. Increase NFFT to avoid.\n",
            "WARNING:root:frame length (551) is greater than FFT size (512), frame will be truncated. Increase NFFT to avoid.\n",
            "WARNING:root:frame length (551) is greater than FFT size (512), frame will be truncated. Increase NFFT to avoid.\n",
            " 74%|███████▎  | 209/284 [00:04<00:01, 54.92it/s]WARNING:root:frame length (551) is greater than FFT size (512), frame will be truncated. Increase NFFT to avoid.\n",
            "WARNING:root:frame length (551) is greater than FFT size (512), frame will be truncated. Increase NFFT to avoid.\n",
            "WARNING:root:frame length (551) is greater than FFT size (512), frame will be truncated. Increase NFFT to avoid.\n",
            "WARNING:root:frame length (551) is greater than FFT size (512), frame will be truncated. Increase NFFT to avoid.\n",
            "WARNING:root:frame length (551) is greater than FFT size (512), frame will be truncated. Increase NFFT to avoid.\n",
            "WARNING:root:frame length (551) is greater than FFT size (512), frame will be truncated. Increase NFFT to avoid.\n",
            " 76%|███████▌  | 215/284 [00:04<00:01, 52.68it/s]WARNING:root:frame length (551) is greater than FFT size (512), frame will be truncated. Increase NFFT to avoid.\n",
            "WARNING:root:frame length (551) is greater than FFT size (512), frame will be truncated. Increase NFFT to avoid.\n",
            "WARNING:root:frame length (551) is greater than FFT size (512), frame will be truncated. Increase NFFT to avoid.\n",
            "WARNING:root:frame length (551) is greater than FFT size (512), frame will be truncated. Increase NFFT to avoid.\n",
            "WARNING:root:frame length (551) is greater than FFT size (512), frame will be truncated. Increase NFFT to avoid.\n",
            "WARNING:root:frame length (551) is greater than FFT size (512), frame will be truncated. Increase NFFT to avoid.\n",
            " 78%|███████▊  | 221/284 [00:04<00:01, 53.94it/s]WARNING:root:frame length (551) is greater than FFT size (512), frame will be truncated. Increase NFFT to avoid.\n",
            "WARNING:root:frame length (551) is greater than FFT size (512), frame will be truncated. Increase NFFT to avoid.\n",
            "WARNING:root:frame length (551) is greater than FFT size (512), frame will be truncated. Increase NFFT to avoid.\n",
            "WARNING:root:frame length (551) is greater than FFT size (512), frame will be truncated. Increase NFFT to avoid.\n",
            "WARNING:root:frame length (551) is greater than FFT size (512), frame will be truncated. Increase NFFT to avoid.\n",
            "WARNING:root:frame length (551) is greater than FFT size (512), frame will be truncated. Increase NFFT to avoid.\n",
            " 80%|███████▉  | 227/284 [00:04<00:01, 50.61it/s]WARNING:root:frame length (551) is greater than FFT size (512), frame will be truncated. Increase NFFT to avoid.\n",
            "WARNING:root:frame length (551) is greater than FFT size (512), frame will be truncated. Increase NFFT to avoid.\n",
            "WARNING:root:frame length (551) is greater than FFT size (512), frame will be truncated. Increase NFFT to avoid.\n",
            "WARNING:root:frame length (551) is greater than FFT size (512), frame will be truncated. Increase NFFT to avoid.\n",
            "WARNING:root:frame length (551) is greater than FFT size (512), frame will be truncated. Increase NFFT to avoid.\n",
            "WARNING:root:frame length (551) is greater than FFT size (512), frame will be truncated. Increase NFFT to avoid.\n",
            " 82%|████████▏ | 233/284 [00:04<00:00, 51.28it/s]WARNING:root:frame length (551) is greater than FFT size (512), frame will be truncated. Increase NFFT to avoid.\n",
            "WARNING:root:frame length (551) is greater than FFT size (512), frame will be truncated. Increase NFFT to avoid.\n",
            "WARNING:root:frame length (551) is greater than FFT size (512), frame will be truncated. Increase NFFT to avoid.\n",
            "WARNING:root:frame length (551) is greater than FFT size (512), frame will be truncated. Increase NFFT to avoid.\n",
            "WARNING:root:frame length (551) is greater than FFT size (512), frame will be truncated. Increase NFFT to avoid.\n",
            "WARNING:root:frame length (551) is greater than FFT size (512), frame will be truncated. Increase NFFT to avoid.\n",
            "WARNING:root:frame length (551) is greater than FFT size (512), frame will be truncated. Increase NFFT to avoid.\n",
            " 85%|████████▍ | 240/284 [00:04<00:00, 55.54it/s]WARNING:root:frame length (551) is greater than FFT size (512), frame will be truncated. Increase NFFT to avoid.\n",
            "WARNING:root:frame length (551) is greater than FFT size (512), frame will be truncated. Increase NFFT to avoid.\n",
            "WARNING:root:frame length (551) is greater than FFT size (512), frame will be truncated. Increase NFFT to avoid.\n",
            "WARNING:root:frame length (551) is greater than FFT size (512), frame will be truncated. Increase NFFT to avoid.\n",
            "WARNING:root:frame length (551) is greater than FFT size (512), frame will be truncated. Increase NFFT to avoid.\n",
            "WARNING:root:frame length (551) is greater than FFT size (512), frame will be truncated. Increase NFFT to avoid.\n",
            " 87%|████████▋ | 246/284 [00:04<00:00, 49.15it/s]WARNING:root:frame length (551) is greater than FFT size (512), frame will be truncated. Increase NFFT to avoid.\n",
            "WARNING:root:frame length (551) is greater than FFT size (512), frame will be truncated. Increase NFFT to avoid.\n",
            "WARNING:root:frame length (551) is greater than FFT size (512), frame will be truncated. Increase NFFT to avoid.\n",
            "WARNING:root:frame length (551) is greater than FFT size (512), frame will be truncated. Increase NFFT to avoid.\n",
            "WARNING:root:frame length (551) is greater than FFT size (512), frame will be truncated. Increase NFFT to avoid.\n",
            "WARNING:root:frame length (551) is greater than FFT size (512), frame will be truncated. Increase NFFT to avoid.\n",
            " 89%|████████▊ | 252/284 [00:05<00:00, 48.33it/s]WARNING:root:frame length (551) is greater than FFT size (512), frame will be truncated. Increase NFFT to avoid.\n",
            "WARNING:root:frame length (551) is greater than FFT size (512), frame will be truncated. Increase NFFT to avoid.\n",
            "WARNING:root:frame length (551) is greater than FFT size (512), frame will be truncated. Increase NFFT to avoid.\n",
            "WARNING:root:frame length (551) is greater than FFT size (512), frame will be truncated. Increase NFFT to avoid.\n",
            "WARNING:root:frame length (551) is greater than FFT size (512), frame will be truncated. Increase NFFT to avoid.\n",
            " 90%|█████████ | 257/284 [00:05<00:00, 46.34it/s]WARNING:root:frame length (551) is greater than FFT size (512), frame will be truncated. Increase NFFT to avoid.\n",
            "WARNING:root:frame length (551) is greater than FFT size (512), frame will be truncated. Increase NFFT to avoid.\n",
            "WARNING:root:frame length (551) is greater than FFT size (512), frame will be truncated. Increase NFFT to avoid.\n",
            "WARNING:root:frame length (551) is greater than FFT size (512), frame will be truncated. Increase NFFT to avoid.\n",
            "WARNING:root:frame length (551) is greater than FFT size (512), frame will be truncated. Increase NFFT to avoid.\n",
            " 92%|█████████▏| 262/284 [00:05<00:00, 45.41it/s]WARNING:root:frame length (551) is greater than FFT size (512), frame will be truncated. Increase NFFT to avoid.\n",
            "WARNING:root:frame length (551) is greater than FFT size (512), frame will be truncated. Increase NFFT to avoid.\n",
            "WARNING:root:frame length (551) is greater than FFT size (512), frame will be truncated. Increase NFFT to avoid.\n",
            "WARNING:root:frame length (551) is greater than FFT size (512), frame will be truncated. Increase NFFT to avoid.\n",
            "WARNING:root:frame length (551) is greater than FFT size (512), frame will be truncated. Increase NFFT to avoid.\n",
            "WARNING:root:frame length (551) is greater than FFT size (512), frame will be truncated. Increase NFFT to avoid.\n",
            " 94%|█████████▍| 268/284 [00:05<00:00, 46.12it/s]WARNING:root:frame length (551) is greater than FFT size (512), frame will be truncated. Increase NFFT to avoid.\n",
            "WARNING:root:frame length (551) is greater than FFT size (512), frame will be truncated. Increase NFFT to avoid.\n",
            "WARNING:root:frame length (551) is greater than FFT size (512), frame will be truncated. Increase NFFT to avoid.\n",
            "WARNING:root:frame length (551) is greater than FFT size (512), frame will be truncated. Increase NFFT to avoid.\n",
            "WARNING:root:frame length (551) is greater than FFT size (512), frame will be truncated. Increase NFFT to avoid.\n",
            " 96%|█████████▌| 273/284 [00:05<00:00, 45.68it/s]WARNING:root:frame length (551) is greater than FFT size (512), frame will be truncated. Increase NFFT to avoid.\n",
            "WARNING:root:frame length (551) is greater than FFT size (512), frame will be truncated. Increase NFFT to avoid.\n",
            "WARNING:root:frame length (551) is greater than FFT size (512), frame will be truncated. Increase NFFT to avoid.\n",
            "WARNING:root:frame length (551) is greater than FFT size (512), frame will be truncated. Increase NFFT to avoid.\n",
            "WARNING:root:frame length (551) is greater than FFT size (512), frame will be truncated. Increase NFFT to avoid.\n",
            " 98%|█████████▊| 278/284 [00:05<00:00, 43.50it/s]WARNING:root:frame length (551) is greater than FFT size (512), frame will be truncated. Increase NFFT to avoid.\n",
            "WARNING:root:frame length (551) is greater than FFT size (512), frame will be truncated. Increase NFFT to avoid.\n",
            "WARNING:root:frame length (551) is greater than FFT size (512), frame will be truncated. Increase NFFT to avoid.\n",
            "WARNING:root:frame length (551) is greater than FFT size (512), frame will be truncated. Increase NFFT to avoid.\n",
            "WARNING:root:frame length (551) is greater than FFT size (512), frame will be truncated. Increase NFFT to avoid.\n",
            "WARNING:root:frame length (551) is greater than FFT size (512), frame will be truncated. Increase NFFT to avoid.\n",
            "100%|██████████| 284/284 [00:05<00:00, 49.08it/s]\n",
            "<ipython-input-103-1d3dd38f60c7>:9: VisibleDeprecationWarning: Creating an ndarray from ragged nested sequences (which is a list-or-tuple of lists-or-tuples-or ndarrays with different lengths or shapes) is deprecated. If you meant to do this, you must specify 'dtype=object' when creating the ndarray.\n",
            "  features = np.array(features)\n",
            "  0%|          | 0/100 [00:00<?, ?it/s]WARNING:root:frame length (551) is greater than FFT size (512), frame will be truncated. Increase NFFT to avoid.\n",
            "WARNING:root:frame length (551) is greater than FFT size (512), frame will be truncated. Increase NFFT to avoid.\n",
            "WARNING:root:frame length (551) is greater than FFT size (512), frame will be truncated. Increase NFFT to avoid.\n",
            "WARNING:root:frame length (551) is greater than FFT size (512), frame will be truncated. Increase NFFT to avoid.\n",
            "  4%|▍         | 4/100 [00:00<00:02, 38.33it/s]WARNING:root:frame length (551) is greater than FFT size (512), frame will be truncated. Increase NFFT to avoid.\n",
            "WARNING:root:frame length (551) is greater than FFT size (512), frame will be truncated. Increase NFFT to avoid.\n",
            "WARNING:root:frame length (551) is greater than FFT size (512), frame will be truncated. Increase NFFT to avoid.\n",
            "WARNING:root:frame length (551) is greater than FFT size (512), frame will be truncated. Increase NFFT to avoid.\n",
            "  8%|▊         | 8/100 [00:00<00:02, 35.18it/s]WARNING:root:frame length (551) is greater than FFT size (512), frame will be truncated. Increase NFFT to avoid.\n",
            "WARNING:root:frame length (551) is greater than FFT size (512), frame will be truncated. Increase NFFT to avoid.\n",
            "WARNING:root:frame length (551) is greater than FFT size (512), frame will be truncated. Increase NFFT to avoid.\n",
            "WARNING:root:frame length (551) is greater than FFT size (512), frame will be truncated. Increase NFFT to avoid.\n",
            "WARNING:root:frame length (551) is greater than FFT size (512), frame will be truncated. Increase NFFT to avoid.\n",
            " 13%|█▎        | 13/100 [00:00<00:02, 39.32it/s]WARNING:root:frame length (551) is greater than FFT size (512), frame will be truncated. Increase NFFT to avoid.\n",
            "WARNING:root:frame length (551) is greater than FFT size (512), frame will be truncated. Increase NFFT to avoid.\n",
            "WARNING:root:frame length (551) is greater than FFT size (512), frame will be truncated. Increase NFFT to avoid.\n",
            "WARNING:root:frame length (551) is greater than FFT size (512), frame will be truncated. Increase NFFT to avoid.\n",
            "WARNING:root:frame length (551) is greater than FFT size (512), frame will be truncated. Increase NFFT to avoid.\n",
            " 18%|█▊        | 18/100 [00:00<00:01, 43.19it/s]WARNING:root:frame length (551) is greater than FFT size (512), frame will be truncated. Increase NFFT to avoid.\n",
            "WARNING:root:frame length (551) is greater than FFT size (512), frame will be truncated. Increase NFFT to avoid.\n",
            "WARNING:root:frame length (551) is greater than FFT size (512), frame will be truncated. Increase NFFT to avoid.\n",
            "WARNING:root:frame length (551) is greater than FFT size (512), frame will be truncated. Increase NFFT to avoid.\n",
            "WARNING:root:frame length (551) is greater than FFT size (512), frame will be truncated. Increase NFFT to avoid.\n",
            " 23%|██▎       | 23/100 [00:00<00:01, 45.05it/s]WARNING:root:frame length (551) is greater than FFT size (512), frame will be truncated. Increase NFFT to avoid.\n",
            "WARNING:root:frame length (551) is greater than FFT size (512), frame will be truncated. Increase NFFT to avoid.\n",
            "WARNING:root:frame length (551) is greater than FFT size (512), frame will be truncated. Increase NFFT to avoid.\n",
            "WARNING:root:frame length (551) is greater than FFT size (512), frame will be truncated. Increase NFFT to avoid.\n",
            "WARNING:root:frame length (551) is greater than FFT size (512), frame will be truncated. Increase NFFT to avoid.\n",
            "WARNING:root:frame length (551) is greater than FFT size (512), frame will be truncated. Increase NFFT to avoid.\n",
            " 29%|██▉       | 29/100 [00:00<00:01, 47.46it/s]WARNING:root:frame length (551) is greater than FFT size (512), frame will be truncated. Increase NFFT to avoid.\n",
            "WARNING:root:frame length (551) is greater than FFT size (512), frame will be truncated. Increase NFFT to avoid.\n",
            "WARNING:root:frame length (551) is greater than FFT size (512), frame will be truncated. Increase NFFT to avoid.\n",
            "WARNING:root:frame length (551) is greater than FFT size (512), frame will be truncated. Increase NFFT to avoid.\n",
            "WARNING:root:frame length (551) is greater than FFT size (512), frame will be truncated. Increase NFFT to avoid.\n",
            "WARNING:root:frame length (551) is greater than FFT size (512), frame will be truncated. Increase NFFT to avoid.\n",
            " 35%|███▌      | 35/100 [00:00<00:01, 50.42it/s]WARNING:root:frame length (551) is greater than FFT size (512), frame will be truncated. Increase NFFT to avoid.\n",
            "WARNING:root:frame length (551) is greater than FFT size (512), frame will be truncated. Increase NFFT to avoid.\n",
            "WARNING:root:frame length (551) is greater than FFT size (512), frame will be truncated. Increase NFFT to avoid.\n",
            "WARNING:root:frame length (551) is greater than FFT size (512), frame will be truncated. Increase NFFT to avoid.\n",
            "WARNING:root:frame length (551) is greater than FFT size (512), frame will be truncated. Increase NFFT to avoid.\n",
            "WARNING:root:frame length (551) is greater than FFT size (512), frame will be truncated. Increase NFFT to avoid.\n",
            " 41%|████      | 41/100 [00:00<00:01, 50.81it/s]WARNING:root:frame length (551) is greater than FFT size (512), frame will be truncated. Increase NFFT to avoid.\n",
            "WARNING:root:frame length (551) is greater than FFT size (512), frame will be truncated. Increase NFFT to avoid.\n",
            "WARNING:root:frame length (551) is greater than FFT size (512), frame will be truncated. Increase NFFT to avoid.\n",
            "WARNING:root:frame length (551) is greater than FFT size (512), frame will be truncated. Increase NFFT to avoid.\n",
            "WARNING:root:frame length (551) is greater than FFT size (512), frame will be truncated. Increase NFFT to avoid.\n",
            "WARNING:root:frame length (551) is greater than FFT size (512), frame will be truncated. Increase NFFT to avoid.\n",
            " 47%|████▋     | 47/100 [00:01<00:01, 50.08it/s]WARNING:root:frame length (551) is greater than FFT size (512), frame will be truncated. Increase NFFT to avoid.\n",
            "WARNING:root:frame length (551) is greater than FFT size (512), frame will be truncated. Increase NFFT to avoid.\n",
            "WARNING:root:frame length (551) is greater than FFT size (512), frame will be truncated. Increase NFFT to avoid.\n",
            "WARNING:root:frame length (551) is greater than FFT size (512), frame will be truncated. Increase NFFT to avoid.\n",
            "WARNING:root:frame length (551) is greater than FFT size (512), frame will be truncated. Increase NFFT to avoid.\n",
            "WARNING:root:frame length (551) is greater than FFT size (512), frame will be truncated. Increase NFFT to avoid.\n",
            " 53%|█████▎    | 53/100 [00:01<00:01, 46.82it/s]WARNING:root:frame length (551) is greater than FFT size (512), frame will be truncated. Increase NFFT to avoid.\n",
            "WARNING:root:frame length (551) is greater than FFT size (512), frame will be truncated. Increase NFFT to avoid.\n",
            "WARNING:root:frame length (551) is greater than FFT size (512), frame will be truncated. Increase NFFT to avoid.\n",
            "WARNING:root:frame length (551) is greater than FFT size (512), frame will be truncated. Increase NFFT to avoid.\n",
            "WARNING:root:frame length (551) is greater than FFT size (512), frame will be truncated. Increase NFFT to avoid.\n",
            " 58%|█████▊    | 58/100 [00:01<00:01, 41.96it/s]WARNING:root:frame length (551) is greater than FFT size (512), frame will be truncated. Increase NFFT to avoid.\n",
            "WARNING:root:frame length (551) is greater than FFT size (512), frame will be truncated. Increase NFFT to avoid.\n",
            "WARNING:root:frame length (551) is greater than FFT size (512), frame will be truncated. Increase NFFT to avoid.\n",
            "WARNING:root:frame length (551) is greater than FFT size (512), frame will be truncated. Increase NFFT to avoid.\n",
            "WARNING:root:frame length (551) is greater than FFT size (512), frame will be truncated. Increase NFFT to avoid.\n",
            " 63%|██████▎   | 63/100 [00:01<00:00, 38.81it/s]WARNING:root:frame length (551) is greater than FFT size (512), frame will be truncated. Increase NFFT to avoid.\n",
            "WARNING:root:frame length (551) is greater than FFT size (512), frame will be truncated. Increase NFFT to avoid.\n",
            "WARNING:root:frame length (551) is greater than FFT size (512), frame will be truncated. Increase NFFT to avoid.\n",
            "WARNING:root:frame length (551) is greater than FFT size (512), frame will be truncated. Increase NFFT to avoid.\n",
            " 67%|██████▋   | 67/100 [00:01<00:00, 36.91it/s]WARNING:root:frame length (551) is greater than FFT size (512), frame will be truncated. Increase NFFT to avoid.\n",
            "WARNING:root:frame length (551) is greater than FFT size (512), frame will be truncated. Increase NFFT to avoid.\n",
            "WARNING:root:frame length (551) is greater than FFT size (512), frame will be truncated. Increase NFFT to avoid.\n",
            "WARNING:root:frame length (551) is greater than FFT size (512), frame will be truncated. Increase NFFT to avoid.\n",
            " 71%|███████   | 71/100 [00:01<00:00, 34.74it/s]WARNING:root:frame length (551) is greater than FFT size (512), frame will be truncated. Increase NFFT to avoid.\n",
            "WARNING:root:frame length (551) is greater than FFT size (512), frame will be truncated. Increase NFFT to avoid.\n",
            "WARNING:root:frame length (551) is greater than FFT size (512), frame will be truncated. Increase NFFT to avoid.\n",
            "WARNING:root:frame length (551) is greater than FFT size (512), frame will be truncated. Increase NFFT to avoid.\n",
            " 75%|███████▌  | 75/100 [00:01<00:00, 33.08it/s]WARNING:root:frame length (551) is greater than FFT size (512), frame will be truncated. Increase NFFT to avoid.\n",
            "WARNING:root:frame length (551) is greater than FFT size (512), frame will be truncated. Increase NFFT to avoid.\n",
            "WARNING:root:frame length (551) is greater than FFT size (512), frame will be truncated. Increase NFFT to avoid.\n",
            "WARNING:root:frame length (551) is greater than FFT size (512), frame will be truncated. Increase NFFT to avoid.\n",
            " 79%|███████▉  | 79/100 [00:02<00:00, 28.88it/s]WARNING:root:frame length (551) is greater than FFT size (512), frame will be truncated. Increase NFFT to avoid.\n",
            "WARNING:root:frame length (551) is greater than FFT size (512), frame will be truncated. Increase NFFT to avoid.\n",
            "WARNING:root:frame length (551) is greater than FFT size (512), frame will be truncated. Increase NFFT to avoid.\n",
            " 82%|████████▏ | 82/100 [00:02<00:00, 27.09it/s]WARNING:root:frame length (551) is greater than FFT size (512), frame will be truncated. Increase NFFT to avoid.\n",
            "WARNING:root:frame length (551) is greater than FFT size (512), frame will be truncated. Increase NFFT to avoid.\n",
            "WARNING:root:frame length (551) is greater than FFT size (512), frame will be truncated. Increase NFFT to avoid.\n",
            " 85%|████████▌ | 85/100 [00:02<00:00, 27.56it/s]WARNING:root:frame length (551) is greater than FFT size (512), frame will be truncated. Increase NFFT to avoid.\n",
            "WARNING:root:frame length (551) is greater than FFT size (512), frame will be truncated. Increase NFFT to avoid.\n",
            "WARNING:root:frame length (551) is greater than FFT size (512), frame will be truncated. Increase NFFT to avoid.\n",
            " 88%|████████▊ | 88/100 [00:02<00:00, 28.07it/s]WARNING:root:frame length (551) is greater than FFT size (512), frame will be truncated. Increase NFFT to avoid.\n",
            "WARNING:root:frame length (551) is greater than FFT size (512), frame will be truncated. Increase NFFT to avoid.\n",
            "WARNING:root:frame length (551) is greater than FFT size (512), frame will be truncated. Increase NFFT to avoid.\n",
            "WARNING:root:frame length (551) is greater than FFT size (512), frame will be truncated. Increase NFFT to avoid.\n",
            "WARNING:root:frame length (551) is greater than FFT size (512), frame will be truncated. Increase NFFT to avoid.\n",
            " 93%|█████████▎| 93/100 [00:02<00:00, 31.93it/s]WARNING:root:frame length (551) is greater than FFT size (512), frame will be truncated. Increase NFFT to avoid.\n",
            "WARNING:root:frame length (551) is greater than FFT size (512), frame will be truncated. Increase NFFT to avoid.\n",
            "WARNING:root:frame length (551) is greater than FFT size (512), frame will be truncated. Increase NFFT to avoid.\n",
            "WARNING:root:frame length (551) is greater than FFT size (512), frame will be truncated. Increase NFFT to avoid.\n",
            " 97%|█████████▋| 97/100 [00:02<00:00, 30.80it/s]WARNING:root:frame length (551) is greater than FFT size (512), frame will be truncated. Increase NFFT to avoid.\n",
            "WARNING:root:frame length (551) is greater than FFT size (512), frame will be truncated. Increase NFFT to avoid.\n",
            "WARNING:root:frame length (551) is greater than FFT size (512), frame will be truncated. Increase NFFT to avoid.\n",
            "100%|██████████| 100/100 [00:02<00:00, 36.38it/s]\n"
          ]
        }
      ],
      "source": [
        "male_features = extract_features(male_voices)\n",
        "female_features = extract_features(female_voices)"
      ]
    },
    {
      "cell_type": "markdown",
      "metadata": {
        "id": "UIFOOEPdaKBM"
      },
      "source": [
        "The function used to concatenate all audio features forming a long 2-dimensional array"
      ]
    },
    {
      "cell_type": "code",
      "execution_count": null,
      "metadata": {
        "id": "zGQbbZJKaKBM"
      },
      "outputs": [],
      "source": [
        "def concatenate_features(audio_features):\n",
        "    concatenated = audio_features[0]\n",
        "    for audio_feature in tqdm(audio_features):\n",
        "        concatenated = np.vstack((concatenated, audio_feature))\n",
        "        \n",
        "    return concatenated"
      ]
    },
    {
      "cell_type": "code",
      "source": [],
      "metadata": {
        "id": "ewizh4IK5v7R"
      },
      "execution_count": null,
      "outputs": []
    },
    {
      "cell_type": "markdown",
      "metadata": {
        "id": "0a0kg6rwaKBN"
      },
      "source": [
        "How the function is used"
      ]
    },
    {
      "cell_type": "code",
      "execution_count": null,
      "metadata": {
        "id": "nuiaImx3aKBN",
        "colab": {
          "base_uri": "https://localhost:8080/"
        },
        "outputId": "30386e44-7a51-4d70-d5fa-de6a5e7ef0ee"
      },
      "outputs": [
        {
          "output_type": "stream",
          "name": "stderr",
          "text": [
            "100%|██████████| 284/284 [00:00<00:00, 293.84it/s]\n",
            "100%|██████████| 100/100 [00:00<00:00, 1205.81it/s]\n"
          ]
        }
      ],
      "source": [
        "male_concatenated = concatenate_features(male_features)\n",
        "female_concatenated = concatenate_features(female_features)"
      ]
    },
    {
      "cell_type": "code",
      "execution_count": null,
      "metadata": {
        "id": "CBMep9R2aKBO",
        "colab": {
          "base_uri": "https://localhost:8080/"
        },
        "outputId": "3b62e0d1-95ad-4a63-9eb6-c39518f85b82"
      },
      "outputs": [
        {
          "output_type": "stream",
          "name": "stdout",
          "text": [
            "(111218, 26)\n"
          ]
        }
      ],
      "source": [
        "print(male_concatenated.shape) \t\t\n",
        "# Output: (117576, 26)"
      ]
    },
    {
      "cell_type": "code",
      "execution_count": null,
      "metadata": {
        "id": "XyOtiIjzaKBO",
        "colab": {
          "base_uri": "https://localhost:8080/"
        },
        "outputId": "295d296d-eb45-49ce-bbb6-1d2e0d53e9a9"
      },
      "outputs": [
        {
          "output_type": "stream",
          "name": "stdout",
          "text": [
            "(41245, 26)\n"
          ]
        }
      ],
      "source": [
        "print(female_concatenated.shape)\t\n",
        "# Output: (124755, 26)"
      ]
    },
    {
      "cell_type": "markdown",
      "metadata": {
        "id": "2hFpCl9saKBP"
      },
      "source": [
        "Concatenate male voices and female voices"
      ]
    },
    {
      "cell_type": "code",
      "execution_count": null,
      "metadata": {
        "id": "d8xatF-FaKBP",
        "colab": {
          "base_uri": "https://localhost:8080/"
        },
        "outputId": "982b92d2-1265-41b5-8c4e-86764f0297e6"
      },
      "outputs": [
        {
          "output_type": "execute_result",
          "data": {
            "text/plain": [
              "array([[-17.95160928, -19.52242461, -12.36131923, ...,  -0.11516822,\n",
              "         -0.39050123,  -1.12977526],\n",
              "       [-12.57271513,   4.61553396, -14.78240267, ...,  -0.29584838,\n",
              "          0.82700792,   1.68380726],\n",
              "       [-10.44658753,  13.00975796, -19.59755799, ...,  -0.07688046,\n",
              "          0.73658424,   1.02138516],\n",
              "       ...,\n",
              "       [ -7.98527122,   0.91525817,   6.64830216, ...,  -0.18273626,\n",
              "          0.93203027,   0.26786837],\n",
              "       [ -8.83467273,   1.84733866,   5.90737929, ...,  -0.26424113,\n",
              "          0.54983171,   0.0380893 ],\n",
              "       [ -9.71939933,   1.28321873,   1.88294038, ...,  -0.13923801,\n",
              "          0.80623467,   0.59314517]])"
            ]
          },
          "metadata": {},
          "execution_count": 120
        }
      ],
      "source": [
        "X = np.vstack((male_concatenated, female_concatenated))\n",
        "X"
      ]
    },
    {
      "cell_type": "markdown",
      "metadata": {
        "id": "bV047iiwaKBQ"
      },
      "source": [
        "Create labels"
      ]
    },
    {
      "cell_type": "code",
      "execution_count": null,
      "metadata": {
        "id": "Ag-aBUZmaKBR",
        "colab": {
          "base_uri": "https://localhost:8080/"
        },
        "outputId": "44827a90-55c5-4e5a-a67b-ffe3361df930"
      },
      "outputs": [
        {
          "output_type": "execute_result",
          "data": {
            "text/plain": [
              "array([0, 0, 0, ..., 1, 1, 1])"
            ]
          },
          "metadata": {},
          "execution_count": 118
        }
      ],
      "source": [
        "y = np.append([0] * len(male_concatenated), [1] * len(female_concatenated))\n",
        "y"
      ]
    },
    {
      "cell_type": "markdown",
      "metadata": {
        "id": "lwy64ABpaKBR"
      },
      "source": [
        "Check whether X and y are already having the exact same length"
      ]
    },
    {
      "cell_type": "code",
      "execution_count": null,
      "metadata": {
        "id": "OM5ZQZsoaKBS",
        "colab": {
          "base_uri": "https://localhost:8080/"
        },
        "outputId": "5738cf90-5e50-454a-ddb3-2f307fc93628"
      },
      "outputs": [
        {
          "output_type": "stream",
          "name": "stdout",
          "text": [
            "[[-17.95160928 -19.52242461 -12.36131923 ...  -0.11516822  -0.39050123\n",
            "   -1.12977526]\n",
            " [-12.57271513   4.61553396 -14.78240267 ...  -0.29584838   0.82700792\n",
            "    1.68380726]\n",
            " [-10.44658753  13.00975796 -19.59755799 ...  -0.07688046   0.73658424\n",
            "    1.02138516]\n",
            " ...\n",
            " [ -7.98527122   0.91525817   6.64830216 ...  -0.18273626   0.93203027\n",
            "    0.26786837]\n",
            " [ -8.83467273   1.84733866   5.90737929 ...  -0.26424113   0.54983171\n",
            "    0.0380893 ]\n",
            " [ -9.71939933   1.28321873   1.88294038 ...  -0.13923801   0.80623467\n",
            "    0.59314517]]\n"
          ]
        }
      ],
      "source": [
        "print(X.shape)\t\t\n",
        "# Output: (242268, 26)"
      ]
    },
    {
      "cell_type": "code",
      "execution_count": null,
      "metadata": {
        "id": "Wz_p3D8jaKBS",
        "colab": {
          "base_uri": "https://localhost:8080/"
        },
        "outputId": "07348d1d-3b98-4c79-f187-b8306e67fc2a"
      },
      "outputs": [
        {
          "output_type": "stream",
          "name": "stdout",
          "text": [
            "(152463,)\n"
          ]
        }
      ],
      "source": [
        "print(y.shape)\t\t\n",
        "# Output: (242268,)"
      ]
    },
    {
      "cell_type": "code",
      "execution_count": null,
      "metadata": {
        "id": "VBm_J1RtaKBS"
      },
      "outputs": [],
      "source": [
        "X_train, X_test, y_train, y_test = train_test_split(X, y, test_size=0.2, random_state=22)"
      ]
    },
    {
      "cell_type": "code",
      "source": [
        "y_train.shape"
      ],
      "metadata": {
        "colab": {
          "base_uri": "https://localhost:8080/"
        },
        "id": "jfikRWBFjwZd",
        "outputId": "fbea7083-19a6-4bbf-e4c8-14db6b78e8ed"
      },
      "execution_count": null,
      "outputs": [
        {
          "output_type": "execute_result",
          "data": {
            "text/plain": [
              "(121970,)"
            ]
          },
          "metadata": {},
          "execution_count": 66
        }
      ]
    },
    {
      "cell_type": "markdown",
      "metadata": {
        "id": "2gKCqYVkaKBT"
      },
      "source": [
        "Initialize SVM model"
      ]
    },
    {
      "cell_type": "code",
      "execution_count": null,
      "metadata": {
        "id": "a59Jdmh8aKBT"
      },
      "outputs": [],
      "source": [
        "clf = SVC(kernel='rbf')      "
      ]
    },
    {
      "cell_type": "markdown",
      "metadata": {
        "id": "OA_X1EQRaKBY"
      },
      "source": [
        "Train the model"
      ]
    },
    {
      "cell_type": "code",
      "execution_count": null,
      "metadata": {
        "id": "oqzkHdyoaKBY",
        "colab": {
          "base_uri": "https://localhost:8080/"
        },
        "outputId": "ce3f7c40-79f6-4e7b-8d2d-40f6aa513740"
      },
      "outputs": [
        {
          "output_type": "stream",
          "name": "stdout",
          "text": [
            "165.91033482551575\n"
          ]
        }
      ],
      "source": [
        "start = time()\n",
        "model=clf.fit(X_train[:50000], y_train[:50000])\n",
        "print(time()-start)\t\t\t\t\t\t\n",
        "# Output: 184.8018662929535 (seconds)"
      ]
    },
    {
      "cell_type": "code",
      "source": [
        "!pip install pickle5"
      ],
      "metadata": {
        "colab": {
          "base_uri": "https://localhost:8080/"
        },
        "id": "6jY_l9ZZnLiT",
        "outputId": "79f0bf1a-3b43-41b9-baeb-d98efef34fa4"
      },
      "execution_count": null,
      "outputs": [
        {
          "output_type": "stream",
          "name": "stdout",
          "text": [
            "Looking in indexes: https://pypi.org/simple, https://us-python.pkg.dev/colab-wheels/public/simple/\n",
            "Collecting pickle5\n",
            "  Downloading pickle5-0.0.11.tar.gz (132 kB)\n",
            "\u001b[?25l     \u001b[90m━━━━━━━━━━━━━━━━━━━━━━━━━━━━━━━━━━━━━━━━\u001b[0m \u001b[32m0.0/132.1 KB\u001b[0m \u001b[31m?\u001b[0m eta \u001b[36m-:--:--\u001b[0m\r\u001b[2K     \u001b[90m━━━━━━━━━━━━━━━━━━━━━━━━━━━━━━━━━━━━━━━\u001b[0m \u001b[32m132.1/132.1 KB\u001b[0m \u001b[31m4.3 MB/s\u001b[0m eta \u001b[36m0:00:00\u001b[0m\n",
            "\u001b[?25h  Preparing metadata (setup.py) ... \u001b[?25l\u001b[?25hdone\n",
            "Building wheels for collected packages: pickle5\n",
            "  Building wheel for pickle5 (setup.py) ... \u001b[?25l\u001b[?25hdone\n",
            "  Created wheel for pickle5: filename=pickle5-0.0.11-cp38-cp38-linux_x86_64.whl size=262121 sha256=00ec78d1e91faf62199cf6870a42d639e798503094d02cca5ccc96549f7d1326\n",
            "  Stored in directory: /root/.cache/pip/wheels/25/d4/61/dbd8edd1a0d656be7b4267c85db3b61951eb60016a0154a122\n",
            "Successfully built pickle5\n",
            "Installing collected packages: pickle5\n",
            "Successfully installed pickle5-0.0.11\n"
          ]
        }
      ]
    },
    {
      "cell_type": "code",
      "source": [
        "import pickle5 as pickle\n",
        "  \n",
        "# Save the trained model as a pickle string.\n",
        "saved_model = pickle.dumps(clf)\n",
        "filename = 'finalized_model.sav'\n",
        "pickle.dump(clf, open(filename, 'wb'))\n",
        "# Load the pickled model\n",
        "model = pickle.loads(saved_model)"
      ],
      "metadata": {
        "id": "efLSQbWJm9uU"
      },
      "execution_count": null,
      "outputs": []
    },
    {
      "cell_type": "markdown",
      "metadata": {
        "id": "CDoLesNmaKBZ"
      },
      "source": [
        "Compute the accuracy score towards train data"
      ]
    },
    {
      "cell_type": "code",
      "execution_count": null,
      "metadata": {
        "id": "9XiTc3lbaKBZ",
        "colab": {
          "base_uri": "https://localhost:8080/"
        },
        "outputId": "95ea4e55-9311-49d7-ba28-05353a46d146"
      },
      "outputs": [
        {
          "output_type": "stream",
          "name": "stdout",
          "text": [
            "0.83466\n"
          ]
        }
      ],
      "source": [
        "start = time()\n",
        "print(clf.score(X_train[:50000], y_train[:50000]))\t\t\n",
        "# Output: 0.78204"
      ]
    },
    {
      "cell_type": "code",
      "execution_count": null,
      "metadata": {
        "id": "2B09507taKBZ",
        "colab": {
          "base_uri": "https://localhost:8080/"
        },
        "outputId": "24c6df80-05aa-415a-ea3c-62b3637f1ea6"
      },
      "outputs": [
        {
          "output_type": "stream",
          "name": "stdout",
          "text": [
            "109.30222392082214\n"
          ]
        }
      ],
      "source": [
        "print(time()-start)\t\t\t\t\t\t\n",
        "# Output: 90.8693311214447 (seconds)"
      ]
    },
    {
      "cell_type": "markdown",
      "metadata": {
        "id": "oNg-R-R0aKBa"
      },
      "source": [
        "Compute the accuracy score towards test data"
      ]
    },
    {
      "cell_type": "code",
      "execution_count": null,
      "metadata": {
        "id": "h0OMDGjxaKBa"
      },
      "outputs": [],
      "source": [
        "start = time()\n",
        "print(clf.score(X_test[:10000], y_test[:10000]))\t\t\n",
        "# Output: 0.7679"
      ]
    },
    {
      "cell_type": "code",
      "execution_count": null,
      "metadata": {
        "id": "IYJ3UuzhaKBa"
      },
      "outputs": [],
      "source": [
        "print(time()-start)\t\t\t\t\t\t\n",
        "# Output: 18.082067728042603 (seconds)"
      ]
    },
    {
      "cell_type": "markdown",
      "metadata": {
        "id": "1RgXIBZ-aKBb"
      },
      "source": [
        "Predict the first 10000 test data"
      ]
    },
    {
      "cell_type": "code",
      "execution_count": null,
      "metadata": {
        "id": "NLJyGId_aKBb"
      },
      "outputs": [],
      "source": [
        "svm_predictions = clf.predict(X_test[:10000])"
      ]
    },
    {
      "cell_type": "code",
      "source": [
        "from sklearn.metrics import confusion_matrix, accuracy_score\n",
        "accuracy = accuracy_score(y_test[:10000],svm_predictions)*100\n",
        "print(\"accuracy is \"+str(accuracy))"
      ],
      "metadata": {
        "colab": {
          "base_uri": "https://localhost:8080/"
        },
        "id": "VP50-GkOmGc2",
        "outputId": "5dd50a56-55ba-432d-be3a-4d9fc380a3a9"
      },
      "execution_count": null,
      "outputs": [
        {
          "output_type": "stream",
          "name": "stdout",
          "text": [
            "accuracy is 82.07\n"
          ]
        }
      ]
    },
    {
      "cell_type": "markdown",
      "metadata": {
        "id": "x4mkAJx9aKBb"
      },
      "source": [
        "Create the confusion matrix values"
      ]
    },
    {
      "cell_type": "code",
      "execution_count": null,
      "metadata": {
        "id": "Kc-sJmrnaKBb"
      },
      "outputs": [],
      "source": [
        "cm = confusion_matrix(y_test[:10000], svm_predictions)"
      ]
    },
    {
      "cell_type": "markdown",
      "metadata": {
        "id": "e1Dg8MOHaKBc"
      },
      "source": [
        "Create the confusion matrix display"
      ]
    },
    {
      "cell_type": "code",
      "execution_count": null,
      "metadata": {
        "id": "aJgU_YzlaKBc",
        "colab": {
          "base_uri": "https://localhost:8080/",
          "height": 513
        },
        "outputId": "08ad6a44-2d6b-4510-f0b3-c5e3318f8274"
      },
      "outputs": [
        {
          "output_type": "display_data",
          "data": {
            "text/plain": [
              "<Figure size 576x576 with 1 Axes>"
            ],
            "image/png": "[encoded data removed]"
          },
          "metadata": {
            "needs_background": "light"
          }
        }
      ],
      "source": [
        "plt.figure(figsize=(8,8))\n",
        "plt.title('Confusion matrix on test data')\n",
        "sns.heatmap(cm, annot=True, fmt='d', \n",
        "            cmap=plt.cm.Blues, cbar=False, annot_kws={'size':14})\n",
        "plt.xlabel('Predicted Label')\n",
        "plt.ylabel('True Label')\n",
        "plt.show()"
      ]
    },
    {
      "cell_type": "code",
      "source": [],
      "metadata": {
        "id": "8Opb_ywFlaqE"
      },
      "execution_count": null,
      "outputs": []
    },
    {
      "cell_type": "code",
      "source": [
        "from google.colab import drive\n",
        "drive.mount('/content/drive')"
      ],
      "metadata": {
        "colab": {
          "base_uri": "https://localhost:8080/"
        },
        "id": "5E5hSyCapgIt",
        "outputId": "8728c27d-04c2-456d-8d04-9149b6afa307"
      },
      "execution_count": null,
      "outputs": [
        {
          "output_type": "stream",
          "name": "stdout",
          "text": [
            "Drive already mounted at /content/drive; to attempt to forcibly remount, call drive.mount(\"/content/drive\", force_remount=True).\n"
          ]
        }
      ]
    },
    {
      "cell_type": "markdown",
      "metadata": {
        "id": "SdG-XGSRaKBd"
      },
      "source": [
        "Performance comparison between different algorithms"
      ]
    },
    {
      "cell_type": "code",
      "source": [
        "! ls"
      ],
      "metadata": {
        "colab": {
          "base_uri": "https://localhost:8080/"
        },
        "id": "oyl8cLvAqjAc",
        "outputId": "1de98430-4573-41fb-9198-309b162fe79b"
      },
      "execution_count": null,
      "outputs": [
        {
          "output_type": "stream",
          "name": "stdout",
          "text": [
            "drive\t\t\t  male-sample-000111.wav  male-sample-000573.wav\n",
            "female.csv\t\t  male-sample-000115.wav  male-sample-000576.wav\n",
            "female-sample-000005.wav  male-sample-000116.wav  male-sample-000577.wav\n",
            "female-sample-000013.wav  male-sample-000118.wav  male-sample-000578.wav\n",
            "female-sample-000026.wav  male-sample-000121.wav  male-sample-000579.wav\n",
            "female-sample-000034.wav  male-sample-000132.wav  male-sample-000584.wav\n",
            "female-sample-000039.wav  male-sample-000135.wav  male-sample-000591.wav\n",
            "female-sample-000051.wav  male-sample-000137.wav  male-sample-000595.wav\n",
            "female-sample-000057.wav  male-sample-000140.wav  male-sample-000600.wav\n",
            "female-sample-000059.wav  male-sample-000146.wav  male-sample-000610.wav\n",
            "female-sample-000077.wav  male-sample-000154.wav  male-sample-000612.wav\n",
            "female-sample-000088.wav  male-sample-000167.wav  male-sample-000620.wav\n",
            "female-sample-000101.wav  male-sample-000168.wav  male-sample-000622.wav\n",
            "female-sample-000106.wav  male-sample-000175.wav  male-sample-000625.wav\n",
            "female-sample-000124.wav  male-sample-000179.wav  male-sample-000626.wav\n",
            "female-sample-000128.wav  male-sample-000180.wav  male-sample-000633.wav\n",
            "female-sample-000133.wav  male-sample-000181.wav  male-sample-000635.wav\n",
            "female-sample-000155.wav  male-sample-000187.wav  male-sample-000637.wav\n",
            "female-sample-000159.wav  male-sample-000191.wav  male-sample-000646.wav\n",
            "female-sample-000169.wav  male-sample-000192.wav  male-sample-000647.wav\n",
            "female-sample-000184.wav  male-sample-000193.wav  male-sample-000651.wav\n",
            "female-sample-000196.wav  male-sample-000194.wav  male-sample-000653.wav\n",
            "female-sample-000203.wav  male-sample-000195.wav  male-sample-000657.wav\n",
            "female-sample-000214.wav  male-sample-000197.wav  male-sample-000668.wav\n",
            "female-sample-000217.wav  male-sample-000201.wav  male-sample-000671.wav\n",
            "female-sample-000221.wav  male-sample-000202.wav  male-sample-000673.wav\n",
            "female-sample-000236.wav  male-sample-000204.wav  male-sample-000677.wav\n",
            "female-sample-000242.wav  male-sample-000205.wav  male-sample-000679.wav\n",
            "female-sample-000248.wav  male-sample-000213.wav  male-sample-000683.wav\n",
            "female-sample-000255.wav  male-sample-000216.wav  male-sample-000684.wav\n",
            "female-sample-000270.wav  male-sample-000218.wav  male-sample-000690.wav\n",
            "female-sample-000280.wav  male-sample-000219.wav  male-sample-000691.wav\n",
            "female-sample-000305.wav  male-sample-000225.wav  male-sample-000694.wav\n",
            "female-sample-000341.wav  male-sample-000229.wav  male-sample-000695.wav\n",
            "female-sample-000350.wav  male-sample-000235.wav  male-sample-000698.wav\n",
            "female-sample-000362.wav  male-sample-000238.wav  male-sample-000701.wav\n",
            "female-sample-000368.wav  male-sample-000239.wav  male-sample-000704.wav\n",
            "female-sample-000410.wav  male-sample-000243.wav  male-sample-000705.wav\n",
            "female-sample-000419.wav  male-sample-000246.wav  male-sample-000707.wav\n",
            "female-sample-000420.wav  male-sample-000247.wav  male-sample-000708.wav\n",
            "female-sample-000425.wav  male-sample-000250.wav  male-sample-000710.wav\n",
            "female-sample-000427.wav  male-sample-000254.wav  male-sample-000717.wav\n",
            "female-sample-000432.wav  male-sample-000262.wav  male-sample-000718.wav\n",
            "female-sample-000443.wav  male-sample-000265.wav  male-sample-000733.wav\n",
            "female-sample-000451.wav  male-sample-000266.wav  male-sample-000742.wav\n",
            "female-sample-000493.wav  male-sample-000273.wav  male-sample-000745.wav\n",
            "female-sample-000517.wav  male-sample-000274.wav  male-sample-000749.wav\n",
            "female-sample-000556.wav  male-sample-000277.wav  male-sample-000751.wav\n",
            "female-sample-000563.wav  male-sample-000278.wav  male-sample-000753.wav\n",
            "female-sample-000571.wav  male-sample-000283.wav  male-sample-000754.wav\n",
            "female-sample-000586.wav  male-sample-000285.wav  male-sample-000761.wav\n",
            "female-sample-000597.wav  male-sample-000286.wav  male-sample-000768.wav\n",
            "female-sample-000619.wav  male-sample-000290.wav  male-sample-000776.wav\n",
            "female-sample-000629.wav  male-sample-000292.wav  male-sample-000777.wav\n",
            "female-sample-000645.wav  male-sample-000293.wav  male-sample-000779.wav\n",
            "female-sample-000655.wav  male-sample-000294.wav  male-sample-000785.wav\n",
            "female-sample-000663.wav  male-sample-000297.wav  male-sample-000790.wav\n",
            "female-sample-000716.wav  male-sample-000299.wav  male-sample-000793.wav\n",
            "female-sample-000720.wav  male-sample-000300.wav  male-sample-000795.wav\n",
            "female-sample-000740.wav  male-sample-000303.wav  male-sample-000797.wav\n",
            "female-sample-000741.wav  male-sample-000304.wav  male-sample-000798.wav\n",
            "female-sample-000762.wav  male-sample-000317.wav  male-sample-000801.wav\n",
            "female-sample-000766.wav  male-sample-000322.wav  male-sample-000803.wav\n",
            "female-sample-000775.wav  male-sample-000325.wav  male-sample-000808.wav\n",
            "female-sample-000784.wav  male-sample-000333.wav  male-sample-000811.wav\n",
            "female-sample-000794.wav  male-sample-000343.wav  male-sample-000815.wav\n",
            "female-sample-000802.wav  male-sample-000345.wav  male-sample-000817.wav\n",
            "female-sample-000851.wav  male-sample-000355.wav  male-sample-000819.wav\n",
            "female-sample-000854.wav  male-sample-000360.wav  male-sample-000823.wav\n",
            "female-sample-000866.wav  male-sample-000369.wav  male-sample-000824.wav\n",
            "female-sample-000867.wav  male-sample-000374.wav  male-sample-000827.wav\n",
            "female-sample-000873.wav  male-sample-000375.wav  male-sample-000829.wav\n",
            "female-sample-000887.wav  male-sample-000378.wav  male-sample-000834.wav\n",
            "female-sample-000903.wav  male-sample-000379.wav  male-sample-000841.wav\n",
            "female-sample-000909.wav  male-sample-000383.wav  male-sample-000844.wav\n",
            "female-sample-000927.wav  male-sample-000384.wav  male-sample-000850.wav\n",
            "female-sample-000939.wav  male-sample-000385.wav  male-sample-000853.wav\n",
            "female-sample-000947.wav  male-sample-000387.wav  male-sample-000855.wav\n",
            "female-sample-000967.wav  male-sample-000389.wav  male-sample-000861.wav\n",
            "female-sample-000968.wav  male-sample-000392.wav  male-sample-000862.wav\n",
            "female-sample-000976.wav  male-sample-000393.wav  male-sample-000864.wav\n",
            "female-sample-000980.wav  male-sample-000394.wav  male-sample-000868.wav\n",
            "female-sample-000995.wav  male-sample-000395.wav  male-sample-000869.wav\n",
            "female-sample-001005.wav  male-sample-000400.wav  male-sample-000871.wav\n",
            "female-sample-001010.wav  male-sample-000401.wav  male-sample-000877.wav\n",
            "female-sample-001014.wav  male-sample-000409.wav  male-sample-000882.wav\n",
            "female-sample-001028.wav  male-sample-000412.wav  male-sample-000884.wav\n",
            "female-sample-001043.wav  male-sample-000414.wav  male-sample-000888.wav\n",
            "female-sample-001045.wav  male-sample-000416.wav  male-sample-000891.wav\n",
            "female-sample-001066.wav  male-sample-000418.wav  male-sample-000892.wav\n",
            "female-sample-001069.wav  male-sample-000424.wav  male-sample-000893.wav\n",
            "female-sample-001100.wav  male-sample-000436.wav  male-sample-000894.wav\n",
            "female-sample-001102.wav  male-sample-000437.wav  male-sample-000895.wav\n",
            "female-sample-001103.wav  male-sample-000447.wav  male-sample-000901.wav\n",
            "female-sample-001104.wav  male-sample-000449.wav  male-sample-000912.wav\n",
            "female-sample-001129.wav  male-sample-000453.wav  male-sample-000915.wav\n",
            "female-sample-001136.wav  male-sample-000454.wav  male-sample-000917.wav\n",
            "female-sample-001153.wav  male-sample-000465.wav  male-sample-000919.wav\n",
            "female-sample-001164.wav  male-sample-000470.wav  male-sample-000924.wav\n",
            "female-sample-001193.wav  male-sample-000474.wav  male-sample-000935.wav\n",
            "female-sample-001194.wav  male-sample-000475.wav  male-sample-000936.wav\n",
            "female-sample-001216.wav  male-sample-000477.wav  male-sample-000945.wav\n",
            "finalized_model.sav\t  male-sample-000479.wav  male-sample-000949.wav\n",
            "male.csv\t\t  male-sample-000482.wav  male-sample-000953.wav\n",
            "male-sample-000008.wav\t  male-sample-000483.wav  male-sample-000957.wav\n",
            "male-sample-000014.wav\t  male-sample-000484.wav  male-sample-000960.wav\n",
            "male-sample-000019.wav\t  male-sample-000485.wav  male-sample-000964.wav\n",
            "male-sample-000020.wav\t  male-sample-000492.wav  male-sample-000972.wav\n",
            "male-sample-000023.wav\t  male-sample-000498.wav  male-sample-000973.wav\n",
            "male-sample-000027.wav\t  male-sample-000499.wav  male-sample-000974.wav\n",
            "male-sample-000029.wav\t  male-sample-000502.wav  male-sample-000977.wav\n",
            "male-sample-000036.wav\t  male-sample-000505.wav  male-sample-000978.wav\n",
            "male-sample-000043.wav\t  male-sample-000506.wav  male-sample-000982.wav\n",
            "male-sample-000044.wav\t  male-sample-000507.wav  male-sample-000984.wav\n",
            "male-sample-000047.wav\t  male-sample-000508.wav  male-sample-000989.wav\n",
            "male-sample-000049.wav\t  male-sample-000519.wav  male-sample-000992.wav\n",
            "male-sample-000050.wav\t  male-sample-000520.wav  male-sample-000994.wav\n",
            "male-sample-000053.wav\t  male-sample-000524.wav  male-sample-000996.wav\n",
            "male-sample-000054.wav\t  male-sample-000525.wav  male-sample-000999.wav\n",
            "male-sample-000056.wav\t  male-sample-000533.wav  male-sample-001020.wav\n",
            "male-sample-000062.wav\t  male-sample-000539.wav  male-sample-001022.wav\n",
            "male-sample-000065.wav\t  male-sample-000544.wav  male-sample-001024.wav\n",
            "male-sample-000068.wav\t  male-sample-000545.wav  male-sample-001030.wav\n",
            "male-sample-000072.wav\t  male-sample-000547.wav  male-sample-001031.wav\n",
            "male-sample-000073.wav\t  male-sample-000548.wav  male-sample-001034.wav\n",
            "male-sample-000081.wav\t  male-sample-000554.wav  male-sample-001038.wav\n",
            "male-sample-000082.wav\t  male-sample-000555.wav  result.wav\n",
            "male-sample-000092.wav\t  male-sample-000564.wav  sample_data\n",
            "male-sample-000097.wav\t  male-sample-000565.wav  voice\n",
            "male-sample-000100.wav\t  male-sample-000567.wav\n",
            "male-sample-000105.wav\t  male-sample-000568.wav\n"
          ]
        }
      ]
    },
    {
      "cell_type": "code",
      "execution_count": null,
      "metadata": {
        "id": "Z_fmm2G0aKBd"
      },
      "outputs": [],
      "source": [
        "index = ['SVM-RBF', 'SVM-Poly', 'SVM-Sigmoid', 'Logistic Regression']"
      ]
    },
    {
      "cell_type": "markdown",
      "metadata": {
        "id": "Av11SrH5aKBf"
      },
      "source": [
        "I record all the results below manually"
      ]
    },
    {
      "cell_type": "code",
      "execution_count": null,
      "metadata": {
        "id": "EwRzay4faKBf"
      },
      "outputs": [],
      "source": [
        "values = [184.8, 137.0, 283.6, 0.7]"
      ]
    },
    {
      "cell_type": "code",
      "execution_count": null,
      "metadata": {
        "id": "rrwFaCXtaKBg"
      },
      "outputs": [],
      "source": [
        "plt.figure(figsize=(12,3))\n",
        "plt.title('Training duration (lower is better)')\n",
        "plt.xlabel('Seconds')\n",
        "plt.ylabel('Model')\n",
        "plt.barh(index, values, zorder=2)\n",
        "plt.grid(zorder=0)"
      ]
    },
    {
      "cell_type": "code",
      "execution_count": null,
      "metadata": {
        "id": "mUcaH3u9aKBg"
      },
      "outputs": [],
      "source": [
        "for i, value in enumerate(values):\n",
        "    plt.text(value+20, i, str(value)+' secs', fontsize=12, color='black',\n",
        "             horizontalalignment='center', verticalalignment='center')"
      ]
    },
    {
      "cell_type": "code",
      "execution_count": null,
      "metadata": {
        "id": "qKaTsQeFaKBi"
      },
      "outputs": [],
      "source": [
        "plt.show()"
      ]
    },
    {
      "cell_type": "markdown",
      "metadata": {
        "id": "_EvJOOepaKBj"
      },
      "source": [
        "set width of bar"
      ]
    },
    {
      "cell_type": "code",
      "execution_count": null,
      "metadata": {
        "id": "dAkbHaIiaKBj"
      },
      "outputs": [],
      "source": [
        "barWidth = 0.25\n",
        "    \n",
        "index = ['SVM-RBF', 'SVM-Poly', 'SVM-Sigmoid', 'Logistic Regression']"
      ]
    },
    {
      "cell_type": "markdown",
      "metadata": {
        "id": "_-pI6Wp5aKBk"
      },
      "source": [
        "set height of bar<br>\n",
        "I record all the results below manually"
      ]
    },
    {
      "cell_type": "code",
      "execution_count": null,
      "metadata": {
        "id": "TJSsTiSkaKBk"
      },
      "outputs": [],
      "source": [
        "train_acc = [78.2, 74.8, 74.8, 65.8]\n",
        "test_acc = [76.8, 74.3, 74.3, 65.8]\n",
        " \n",
        "# Set position of bar on X axis\n",
        "baseline = np.arange(len(train_acc))\n",
        "r1 = [x + 0.125 for x in baseline]\n",
        "r2 = [x + 0.25 for x in r1]\n",
        " \n",
        "# Make the plot\n",
        "plt.figure(figsize=(16,9))\n",
        "plt.title('Model performance (higher is better)')\n",
        "plt.bar(r1, train_acc, width=barWidth, label='Train', zorder=2)\n",
        "plt.bar(r2, test_acc, width=barWidth, label='Test', zorder=2)\n",
        "plt.grid(zorder=0)\n",
        " \n",
        "# Add xticks on the middle of the group bars\n",
        "plt.xlabel('Model')\n",
        "plt.ylabel('Accuracy')\n",
        "plt.xticks([r + barWidth for r in range(len(train_acc))], index)"
      ]
    },
    {
      "cell_type": "markdown",
      "metadata": {
        "id": "4NXsT9J7aKBk"
      },
      "source": [
        "Create text"
      ]
    },
    {
      "cell_type": "code",
      "execution_count": null,
      "metadata": {
        "id": "L5Jz9VT6aKBl"
      },
      "outputs": [],
      "source": [
        "for i, value in enumerate(train_acc):\n",
        "    plt.text(i+0.125, value-5, str(value), fontsize=12, color='white',\n",
        "             horizontalalignment='center', verticalalignment='center')\n",
        "    \n",
        "for i, value in enumerate(test_acc):\n",
        "    plt.text(i+0.375, value-5, str(value), fontsize=12, color='white',\n",
        "             horizontalalignment='center', verticalalignment='center')\n",
        "    \n",
        "plt.legend()\n",
        "plt.sho"
      ]
    },
    {
      "cell_type": "code",
      "source": [],
      "metadata": {
        "id": "1yP_daJ1taqQ"
      },
      "execution_count": null,
      "outputs": []
    },
    {
      "cell_type": "code",
      "source": [],
      "metadata": {
        "id": "-4k2Xzshtauu"
      },
      "execution_count": null,
      "outputs": []
    },
    {
      "cell_type": "code",
      "source": [
        "filename = 'finalized_model.sav'\n",
        "loaded_model = pickle.load(open(filename, 'rb'))\n",
        "# print(loaded_model.predict(X_test[:10000]))\n",
        "result = loaded_model.score(X_test[:10], y_test[:10])\n",
        "print(result)"
      ],
      "metadata": {
        "colab": {
          "base_uri": "https://localhost:8080/"
        },
        "id": "cv-DBScZuG8o",
        "outputId": "057712b4-8620-4e92-a34f-34c117ae4d54"
      },
      "execution_count": null,
      "outputs": [
        {
          "output_type": "stream",
          "name": "stdout",
          "text": [
            "0.9\n"
          ]
        }
      ]
    },
    {
      "cell_type": "code",
      "source": [
        "predict=loaded_model.predict(X_test[:1])\n",
        "print(predict)"
      ],
      "metadata": {
        "colab": {
          "base_uri": "https://localhost:8080/"
        },
        "id": "2xNY_M47uXc1",
        "outputId": "b6af7759-c048-4ede-a804-7ba70d0fe123"
      },
      "execution_count": null,
      "outputs": [
        {
          "output_type": "stream",
          "name": "stdout",
          "text": [
            "[0]\n",
            "accuracy is 0.0\n"
          ]
        }
      ]
    },
    {
      "cell_type": "code",
      "source": [
        "print(y_test[:5])"
      ],
      "metadata": {
        "colab": {
          "base_uri": "https://localhost:8080/"
        },
        "id": "btyjIQR1uxgi",
        "outputId": "70650ff7-6a88-44c8-f76b-496e277acac9"
      },
      "execution_count": null,
      "outputs": [
        {
          "output_type": "stream",
          "name": "stdout",
          "text": [
            "[1 0 0 0 0]\n"
          ]
        }
      ]
    },
    {
      "cell_type": "code",
      "source": [],
      "metadata": {
        "id": "a5vSyrcPvDpI"
      },
      "execution_count": null,
      "outputs": []
    }
  ],
  "metadata": {
    "kernelspec": {
      "display_name": "Python 3",
      "language": "python",
      "name": "python3"
    },
    "language_info": {
      "codemirror_mode": {
        "name": "ipython",
        "version": 3
      },
      "file_extension": ".py",
      "mimetype": "text/x-python",
      "name": "python",
      "nbconvert_exporter": "python",
      "pygments_lexer": "ipython3",
      "version": "3.10.1"
    },
    "colab": {
      "provenance": [],
      "include_colab_link": true
    }
  },
  "nbformat": 4,
  "nbformat_minor": 0
}